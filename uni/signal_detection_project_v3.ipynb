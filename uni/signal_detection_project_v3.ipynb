{
 "cells": [
  {
   "cell_type": "markdown",
   "metadata": {},
   "source": [
    "# Fitting Signal Detection Measures to ROC Curves"
   ]
  },
  {
   "cell_type": "code",
   "execution_count": 86,
   "metadata": {},
   "outputs": [
    {
     "data": {
      "text/plain": [
       "{'divide': 'ignore', 'over': 'ignore', 'under': 'ignore', 'invalid': 'ignore'}"
      ]
     },
     "execution_count": 86,
     "metadata": {},
     "output_type": "execute_result"
    }
   ],
   "source": [
    "import numpy as np\n",
    "import pandas as pd\n",
    "from scipy import stats\n",
    "from scipy.optimize import minimize\n",
    "from sklearn.utils import check_consistent_length\n",
    "import matplotlib.pyplot as plt\n",
    "import seaborn as sns\n",
    "sns.set()\n",
    "np.seterr(all='ignore')"
   ]
  },
  {
   "cell_type": "markdown",
   "metadata": {},
   "source": [
    "## Main Functions\n",
    "[1] Robert R. Sokal and F. James Rohlf. Biometry: The Principles and Practices of Statistics in BiologicalResearch. W.H. Freeman, 3 edition, 1994  \n",
    "[2] Hoey, J. (2012). The Two-Way Likelihood Ratio (G) Test and Comparison to Two-Way Chi Squared Test."
   ]
  },
  {
   "cell_type": "code",
   "execution_count": 2,
   "metadata": {},
   "outputs": [],
   "source": [
    "def compute_dprime(tp, fp):\n",
    "    # untested\n",
    "    return stats.norm.ppf(tp) - stats.norm.ppf(fp)\n",
    "\n",
    "def compute_c_bias(tp, fp):\n",
    "    # untested\n",
    "    return - 0.5 * (stats.norm.ppf(tp) + stats.norm.ppf(fp))\n",
    "\n",
    "def accumulate(*arrays):\n",
    "    # untested\n",
    "    out = []\n",
    "    for a in arrays:\n",
    "        accumulated = np.cumsum(a)\n",
    "        out.append(accumulated)\n",
    "    return out\n",
    "\n",
    "def to_freq(*arrays):\n",
    "    # untested\n",
    "    out = []\n",
    "    for a in arrays:\n",
    "        converted = np.array([(x + i / len(a)) / (max(a)+1) for i, x in enumerate(a, start=1)])\n",
    "        out.append(converted)\n",
    "    return out\n",
    "\n",
    "def convert_to_roc(a, b):\n",
    "    # untested\n",
    "    a_c, b_c = accumulate(a, b)\n",
    "    a_f, b_f = to_freq(a_c, b_c)\n",
    "    return a_f, b_f\n",
    "\n",
    "def g_test(x, x_freq, expected, x_max):\n",
    "    # untested\n",
    "    # Refs: [1, 2]\n",
    "    # Two-way log-likelihood G-test\n",
    "    # Implementation issues:\n",
    "    #    depending on minimization starting variables, the log expressions can throw errors from negative values and div/0 etc. Numpy just warns and continues.\n",
    "    a = 2 * x * np.log(x_freq / expected) \n",
    "    b = 2 * (x_max - x) * np.log((1 - x_freq) / (1 - expected))\n",
    "    return a + b\n",
    "\n",
    "def threshold_model_expectation(R, noise_frequency):\n",
    "    # untested\n",
    "    # Get the expected values for signals and noises\n",
    "    expected_signal = ((1 - R) * noise_frequency + R)[:-1]\n",
    "    expected_noise = noise_frequency[:-1]\n",
    "    return expected_signal, expected_noise\n",
    "\n",
    "def signal_detection_model_expectation(d, c):\n",
    "    # untested\n",
    "    expected_signal = stats.norm.cdf(d / 2 - c)\n",
    "    expected_noise = stats.norm.cdf(-d / 2 - c)\n",
    "    return expected_signal, expected_noise\n",
    "\n",
    "def dual_process_model_expectation(R, d, c):\n",
    "    # untested\n",
    "    expected_signal = R + (1 - R) * stats.norm.cdf(d / 2 - c)\n",
    "    expected_noise = stats.norm.cdf(-d / 2 - c)\n",
    "    return expected_signal, expected_noise\n",
    "\n",
    "def detection_model(parameters, labels, signal, noise, model='sdt', optimizing=False):\n",
    "    # untested\n",
    "    # model options: 'threshold', 'sdt', 'dpsdt', 'thresh'\n",
    "    \n",
    "    # Implementation issues:\n",
    "    #    parameters and labels are specified as separate ndarrays arrays because of how the optimizer works. Maybe this can be improved?\n",
    "    \n",
    "    #------------------------- Check Inputs ---------------------------#\n",
    "    # Ensure equal length\n",
    "    check_consistent_length(signal, noise)\n",
    "    check_consistent_length(parameters, labels)\n",
    "    \n",
    "    # Accumulate (c) the signal and noise data\n",
    "    signal_c, noise_c = accumulate(signal, noise) # np.cumsum(signal), np.cumsum(noise)\n",
    "    # Get frequencies for the cumulative signal and noise\n",
    "    signal_f, noise_f = to_freq(signal_c, noise_c)\n",
    "    \n",
    "    #------------------------- Model Specific -------------------------#\n",
    "    if model == 'sdt':\n",
    "        if 'd' not in labels:\n",
    "            raise ValueError(f\"Either or both of `R` and `d` not specified in parameter labels. labels specified were: {labels}.\")\n",
    "        d = parameters[labels == 'd'].item()\n",
    "        c = parameters[(labels!='R') & (labels!='d')] # Can c_values be 0? what about 1?\n",
    "        exp_signal, exp_noise = signal_detection_model_expectation(d, c)\n",
    "        \n",
    "    elif model == 'dpsdt':\n",
    "        if ('R' not in labels) or ('d' not in labels):\n",
    "            raise ValueError(f\"Either or both of `R` and `d` not specified in parameter labels. labels specified were: {labels}.\")\n",
    "        # Grab the R and d values\n",
    "        R = parameters[labels == 'R'].item()\n",
    "        d = parameters[labels == 'd'].item()\n",
    "    \n",
    "        c = parameters[(labels!='R') & (labels!='d')] # Can c_values be 0? what about 1?\n",
    "        # Get the expected values for signals and noises\n",
    "        exp_signal, exp_noise = dual_process_model_expectation(R, d, c)\n",
    "    \n",
    "    elif model == 'thresh':\n",
    "        if ('R' not in labels):\n",
    "            raise ValueError(f\"Either or both of `R` and `d` not specified in parameter labels. labels specified were: {labels}.\")\n",
    "        R = parameters[labels == 'R'].item()\n",
    "        exp_signal, exp_noise = threshold_model_expectation(R, noise_f)\n",
    "    #------------------------------------------------------------------#\n",
    "\n",
    "    # Compute the gsquared using the dual process model parameters\n",
    "    #   Still getting runtime warnings about division. Function only works with numpy, so can't use math.\n",
    "    signal_gsquared = g_test(x=signal_c[:-1], x_freq=signal_f[:-1], expected=exp_signal, x_max=signal_c.max())\n",
    "    noise_gsquared = g_test(x=noise_c[:-1], x_freq=noise_f[:-1], expected=exp_noise, x_max=noise_c.max())\n",
    "    \n",
    "    g_squared_summed = np.sum([signal_gsquared, noise_gsquared])\n",
    "    \n",
    "    if optimizing:\n",
    "        return g_squared_summed\n",
    "    else:\n",
    "        return g_squared_summed, exp_signal, exp_noise\n",
    "\n",
    "\n",
    "def optimize_model(objective, labels, signal, noise, model, iterations=25, parameters=None, verbose=True):\n",
    "    for i in range(iterations):\n",
    "        try:\n",
    "            if not parameters:\n",
    "                # Random parameter initialization (default)\n",
    "                parameters = np.random.uniform(-.5, .5, len(labels))\n",
    "                optimizing = True # must set in order to return just the objective function\n",
    "                \n",
    "            opt = minimize(fun=objective, x0=parameters, args=(labels, signal, noise, model, optimizing), tol=1e-4)\n",
    "            if opt.success:\n",
    "                # Converged at (local?) minimum.\n",
    "                if verbose==True:\n",
    "                    print(opt)\n",
    "                else:\n",
    "                    print(\"Optimisation successful\\n\")\n",
    "                break\n",
    "            else:\n",
    "                raise ValueError(\"Optimisation unsuccessful\")\n",
    "        except:\n",
    "            opt = None\n",
    "    return opt"
   ]
  },
  {
   "cell_type": "markdown",
   "metadata": {},
   "source": [
    "## Testing the different models with example data"
   ]
  },
  {
   "cell_type": "code",
   "execution_count": 3,
   "metadata": {},
   "outputs": [],
   "source": [
    "# Example data\n",
    "signal = [508,224,172,135,119,63] # Signal present examples\n",
    "noise = [102,161,288,472,492,308] # Signal absent examples"
   ]
  },
  {
   "cell_type": "markdown",
   "metadata": {},
   "source": [
    "### 1.1. signal detection model"
   ]
  },
  {
   "cell_type": "code",
   "execution_count": 4,
   "metadata": {},
   "outputs": [
    {
     "name": "stdout",
     "output_type": "stream",
     "text": [
      "expected G²: 91.8424069319085\n",
      "found G²:91.84240693190836\n"
     ]
    }
   ],
   "source": [
    "# Arguments\n",
    "# Parameters randomly set in the fit_model function\n",
    "parameters = np.array([1.12279662339189, 0.871166834070118, 0.405779553457989, -0.0588639712751784, -0.644343940682155, -1.42214656169388])\n",
    "labels = np.array(['d', 'c1', 'c2', 'c3', 'c4', 'c5'])\n",
    "expected = 91.8424069319085\n",
    "\n",
    "model_fit, s, n = detection_model(parameters=parameters, labels=labels, signal=signal, noise=noise, model='sdt')\n",
    "\n",
    "np.allclose(model_fit, expected)\n",
    "print(f\"expected G\\N{SUPERSCRIPT TWO}: {expected}\\nfound G\\N{SUPERSCRIPT TWO}:{model_fit}\")"
   ]
  },
  {
   "cell_type": "markdown",
   "metadata": {},
   "source": [
    "#### 1.2. Optimizing signal detection model"
   ]
  },
  {
   "cell_type": "code",
   "execution_count": 5,
   "metadata": {},
   "outputs": [
    {
     "name": "stdout",
     "output_type": "stream",
     "text": [
      "      fun: 91.84240692669364\n",
      " hess_inv: array([[ 2.94483396e-04,  2.12059986e-05, -1.12331411e-05,\n",
      "        -3.68062196e-05, -5.69357840e-05, -8.71700921e-05],\n",
      "       [ 2.12059986e-05,  3.71882206e-04,  2.12058140e-05,\n",
      "        -8.87457865e-06, -5.42396879e-06, -1.11512554e-05],\n",
      "       [-1.12331411e-05,  2.12058140e-05,  2.82910444e-04,\n",
      "         4.26693398e-06, -1.07514522e-06,  2.15318960e-05],\n",
      "       [-3.68062196e-05, -8.87457865e-06,  4.26693398e-06,\n",
      "         2.82794051e-04, -1.55629950e-06,  8.93646801e-06],\n",
      "       [-5.69357840e-05, -5.42396879e-06, -1.07514522e-06,\n",
      "        -1.55629950e-06,  2.87849459e-04,  1.86884867e-05],\n",
      "       [-8.71700921e-05, -1.11512554e-05,  2.15318960e-05,\n",
      "         8.93646801e-06,  1.86884867e-05,  4.85949402e-04]])\n",
      "      jac: array([ 3.05175781e-05,  2.00271606e-05, -2.28881836e-05, -3.81469727e-06,\n",
      "        1.23977661e-05,  3.33786011e-05])\n",
      "  message: 'Optimization terminated successfully.'\n",
      "     nfev: 208\n",
      "      nit: 17\n",
      "     njev: 26\n",
      "   status: 0\n",
      "  success: True\n",
      "        x: array([ 1.12279758,  0.87116768,  0.40578008, -0.05886364, -0.6443434 ,\n",
      "       -1.42214577])\n",
      "optimal parameters found:\n",
      "{'d': 1.122797577189672, 'c1': 0.8711676797216519, 'c2': 0.4057800818197577, 'c3': -0.058863638313846466, 'c4': -0.6443433954035233, 'c5': -1.4221457660912618}\n"
     ]
    }
   ],
   "source": [
    "opt = optimize_model(objective=detection_model, labels=labels, signal=signal, noise=noise,model='sdt')\n",
    "\n",
    "if opt:\n",
    "    if opt.success:\n",
    "        optimal_sdt_parameters = {l:v for l, v in zip(labels, opt.x)}\n",
    "        print(f\"optimal parameters found:\\n{optimal_sdt_parameters}\")\n",
    "        sdt_g, sdt_signal, sdt_noise = detection_model(parameters=parameters, labels=labels, signal=signal, noise=noise, model='sdt')\n",
    "else:\n",
    "    print(\"Failure.\")"
   ]
  },
  {
   "cell_type": "markdown",
   "metadata": {},
   "source": [
    "### 2.1. dual process model"
   ]
  },
  {
   "cell_type": "code",
   "execution_count": 48,
   "metadata": {},
   "outputs": [
    {
     "name": "stdout",
     "output_type": "stream",
     "text": [
      "expected G²: 22.6109004733713\n",
      "found G²:22.61090047337164\n"
     ]
    }
   ],
   "source": [
    "parameters = np.array([0.329619769943936, 0.669264105874664, 1.30349820023126, 0.683947212600267, 0.145604921894773, -0.473844533479801, -1.25079084398587])\n",
    "labels = np.array(['R', 'd', 'c1', 'c2', 'c3', 'c4', 'c5'])\n",
    "expected = 22.6109004733713\n",
    "\n",
    "model_fit, s, n = detection_model(parameters=parameters, labels=labels, signal=signal, noise=noise, model='dpsdt')\n",
    "\n",
    "np.allclose(model_fit, expected)\n",
    "print(f\"expected G\\N{SUPERSCRIPT TWO}: {expected}\\nfound G\\N{SUPERSCRIPT TWO}:{model_fit}\")"
   ]
  },
  {
   "cell_type": "markdown",
   "metadata": {},
   "source": [
    "#### 2.2. Optimizing dual-process model"
   ]
  },
  {
   "cell_type": "code",
   "execution_count": 50,
   "metadata": {},
   "outputs": [
    {
     "name": "stdout",
     "output_type": "stream",
     "text": [
      "      fun: 22.610900467600505\n",
      " hess_inv: array([[ 0.0003613 , -0.00068959,  0.00055979,  0.00043419,  0.00032809,\n",
      "         0.00027387,  0.00026785],\n",
      "       [-0.00068959,  0.00176426, -0.00118333, -0.00093032, -0.00072099,\n",
      "        -0.00063313, -0.00064167],\n",
      "       [ 0.00055979, -0.00118333,  0.00175269,  0.00070692,  0.00054181,\n",
      "         0.0004546 ,  0.00044817],\n",
      "       [ 0.00043419, -0.00093032,  0.00070692,  0.00099717,  0.00040994,\n",
      "         0.00035769,  0.0003533 ],\n",
      "       [ 0.00032809, -0.00072099,  0.00054181,  0.00040994,  0.00065591,\n",
      "         0.0002679 ,  0.00026653],\n",
      "       [ 0.00027387, -0.00063313,  0.0004546 ,  0.00035769,  0.0002679 ,\n",
      "         0.00055638,  0.00023101],\n",
      "       [ 0.00026785, -0.00064167,  0.00044817,  0.0003533 ,  0.00026653,\n",
      "         0.00023101,  0.00070089]])\n",
      "      jac: array([-6.74724579e-05,  3.57627869e-05, -5.19752502e-05,  8.10623169e-06,\n",
      "        3.52859497e-05,  3.64780426e-05,  5.72204590e-05])\n",
      "  message: 'Optimization terminated successfully.'\n",
      "     nfev: 207\n",
      "      nit: 16\n",
      "     njev: 23\n",
      "   status: 0\n",
      "  success: True\n",
      "        x: array([ 0.32962094,  0.66926221,  1.30350114,  0.68394962,  0.14560624,\n",
      "       -0.47384299, -1.25078958])\n",
      "optimal parameters found:\n",
      "{'R': 0.32962093952311317, 'd': 0.6692622089079318, 'c1': 1.3035011361277147, 'c2': 0.6839496188016064, 'c3': 0.14560623542861637, 'c4': -0.47384299452772927, 'c5': -1.2507895785306986}\n"
     ]
    }
   ],
   "source": [
    "opt = optimize_model(objective=detection_model, labels=labels, signal=signal, noise=noise, iterations=500, model='dpsdt')\n",
    "\n",
    "if opt:\n",
    "    if opt.success:\n",
    "        optimal_dpsdt_parameters = {l:v for l, v in zip(labels, opt.x)}\n",
    "        print(f\"optimal parameters found:\\n{optimal_dpsdt_parameters}\")\n",
    "        \n",
    "else:\n",
    "    print(\"Failure.\")"
   ]
  },
  {
   "cell_type": "markdown",
   "metadata": {},
   "source": [
    "### 3.1. threshold model"
   ]
  },
  {
   "cell_type": "code",
   "execution_count": 51,
   "metadata": {},
   "outputs": [
    {
     "name": "stdout",
     "output_type": "stream",
     "text": [
      "expected G²: 163.275256078908\n",
      "found G²:163.27525607890783\n"
     ]
    }
   ],
   "source": [
    "parameters = np.array([0.520274590415736])\n",
    "labels = np.array(['R'])\n",
    "expected = 163.275256078908\n",
    "model_fit, s, n = detection_model(parameters=parameters, labels=labels, signal=signal, noise=noise, model='thresh')\n",
    "\n",
    "np.allclose(model_fit, expected)\n",
    "print(f\"expected G\\N{SUPERSCRIPT TWO}: {expected}\\nfound G\\N{SUPERSCRIPT TWO}:{model_fit}\")"
   ]
  },
  {
   "cell_type": "markdown",
   "metadata": {},
   "source": [
    "#### 3.2. Optimizing threshold model"
   ]
  },
  {
   "cell_type": "markdown",
   "metadata": {},
   "source": [
    "This one gives errors and needs more work. It does work if you run it enough times."
   ]
  },
  {
   "cell_type": "code",
   "execution_count": 84,
   "metadata": {},
   "outputs": [
    {
     "name": "stdout",
     "output_type": "stream",
     "text": [
      "      fun: 163.27525607888887\n",
      " hess_inv: array([[4.14111663e-05]])\n",
      "      jac: array([1.71661377e-05])\n",
      "  message: 'Optimization terminated successfully.'\n",
      "     nfev: 39\n",
      "      nit: 12\n",
      "     njev: 13\n",
      "   status: 0\n",
      "  success: True\n",
      "        x: array([0.52027462])\n",
      "optimal parameters found:\n",
      "{'R': 0.5202746246119617}\n"
     ]
    }
   ],
   "source": [
    "opt = optimize_model(objective=detection_model, labels=labels, signal=signal, noise=noise, model='thresh')\n",
    "\n",
    "if opt:\n",
    "    if opt.success:\n",
    "        optimal_threshold_parameters = {l:v for l, v in zip(labels, opt.x)}\n",
    "        print(f\"optimal parameters found:\\n{optimal_threshold_parameters}\")\n",
    "else:\n",
    "    print(\"Failure.\")"
   ]
  },
  {
   "cell_type": "markdown",
   "metadata": {},
   "source": [
    "# Plotting"
   ]
  },
  {
   "cell_type": "code",
   "execution_count": 87,
   "metadata": {},
   "outputs": [
    {
     "name": "stdout",
     "output_type": "stream",
     "text": [
      "Familiarity = 0.5749633372613551\n",
      "Recollection = 0.32962093952311317\n"
     ]
    },
    {
     "data": {
      "image/png": "[encoded data removed]",
      "text/plain": [
       "<Figure size 1000x500 with 3 Axes>"
      ]
     },
     "metadata": {},
     "output_type": "display_data"
    }
   ],
   "source": [
    "sdt_g, sdt_signal, sdt_noise = detection_model(parameters=np.array(list(optimal_sdt_parameters.values())),\n",
    "                                               labels=np.array(list(optimal_sdt_parameters.keys())),\n",
    "                                               signal=signal,\n",
    "                                               noise=noise,\n",
    "                                               model='sdt')\n",
    "\n",
    "dpsdt_g, dpsdt_signal, dpsdt_noise = detection_model(parameters=np.array(list(optimal_dpsdt_parameters.values())),\n",
    "                                                     labels=np.array(list(optimal_dpsdt_parameters.keys())),\n",
    "                                                     signal=signal,\n",
    "                                                     noise=noise,\n",
    "                                                     model='dpsdt')\n",
    "\n",
    "threshold_g, threshold_signal, threshold_noise = detection_model(parameters=np.array(list(optimal_threshold_parameters.values())),\n",
    "                                                                 labels=np.array(list(optimal_threshold_parameters.keys())),\n",
    "                                                                 signal=signal,\n",
    "                                                                 noise=noise,\n",
    "                                                                 model='thresh')\n",
    "\n",
    "performances = {'SDT':sdt_g, 'DPSDT':dpsdt_g, 'threshold':threshold_g}\n",
    "\n",
    "# Find best fit\n",
    "best_fit_g = performances[min(performances)]\n",
    "best_fit_model = min(performances, key=performances.get)\n",
    "\n",
    "\n",
    "\n",
    "fig = plt.figure(figsize=(10,5), dpi=100)\n",
    "ax0 = fig.add_subplot(1,2,1)\n",
    "ax1 = fig.add_subplot(2,2,2)\n",
    "ax2 = fig.add_subplot(2,2,4)\n",
    "\n",
    "\n",
    "# ROC Curves\n",
    "ax0.set_xlim(0, 1); ax0.set_ylim(0, 1)\n",
    "ax0.plot([0,1],[0,1], c='k',ls='dashed')\n",
    "\n",
    "# Plot the models\n",
    "ax0.plot(threshold_noise, threshold_signal, label='threshold')\n",
    "ax0.plot(sdt_noise, sdt_signal, label='EVSDT')\n",
    "ax0.plot(dpsdt_noise, dpsdt_signal, label='DPSDT')\n",
    "\n",
    "# Plot the data\n",
    "roc_signal, roc_noise = convert_to_roc(signal, noise)\n",
    "ax0.scatter(roc_noise[:-1], roc_signal[:-1], facecolors='none', edgecolors='k', label='data', zorder=10)\n",
    "\n",
    "ax0.set_xlabel('1 - specificity')\n",
    "ax0.set_ylabel('sensitivity')\n",
    "\n",
    "ax0.set_title(f\"ROC Models\\nbest fit {best_fit_model}: G\\N{SUPERSCRIPT TWO} = {best_fit_g:.2f}\")\n",
    "ax0.legend()\n",
    "\n",
    "\n",
    "# Parameter Estimates plot\n",
    "c_values = [int(c[-1]) for c in list(optimal_dpsdt_parameters.keys())[2:]]\n",
    "median_c = np.median(c_values)\n",
    "recollection = optimal_dpsdt_parameters['R']\n",
    "familiarity = stats.norm.cdf(optimal_dpsdt_parameters['d']/ 2 - optimal_dpsdt_parameters['c'+str(int(median_c))])\n",
    "parameter_estimates = pd.Series({'recollection':recollection, 'familiarity':familiarity})\n",
    "\n",
    "print(f\"Familiarity = {familiarity}\\nRecollection = {recollection}\")\n",
    "\n",
    "parameter_estimates.plot(kind='bar', edgecolor='k', rot=0, title='Parameter Estimates \\n(Dual Process Model)', ax=ax1)\n",
    "ax1.set_xlabel('Estimates')\n",
    "ax1.set_ylabel('%')\n",
    "ax1.set_ylim(0,1)\n",
    "\n",
    "# Model Performance plot\n",
    "pd.Series(performances).plot(kind='bar', edgecolor='k', rot=0, title='Log Likelihood Model Performance', ax=ax2)\n",
    "ax2.set_xlabel('model')\n",
    "ax2.set_ylabel('G\\N{SUPERSCRIPT TWO}')\n",
    "\n",
    "\n",
    "plt.tight_layout()\n",
    "plt.show()"
   ]
  }
 ],
 "metadata": {
  "kernelspec": {
   "display_name": "Python 3",
   "language": "python",
   "name": "python3"
  },
  "language_info": {
   "codemirror_mode": {
    "name": "ipython",
    "version": 3
   },
   "file_extension": ".py",
   "mimetype": "text/x-python",
   "name": "python",
   "nbconvert_exporter": "python",
   "pygments_lexer": "ipython3",
   "version": "3.7.4"
  }
 },
 "nbformat": 4,
 "nbformat_minor": 4
}
