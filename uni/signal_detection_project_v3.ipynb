{
 "cells": [
  {
   "cell_type": "markdown",
   "metadata": {},
   "source": [
    "# Fitting Signal Detection Measures to ROC Curves"
   ]
  },
  {
   "cell_type": "code",
   "execution_count": 1,
   "metadata": {},
   "outputs": [
    {
     "data": {
      "text/plain": [
       "{'divide': 'warn', 'over': 'warn', 'under': 'ignore', 'invalid': 'warn'}"
      ]
     },
     "execution_count": 1,
     "metadata": {},
     "output_type": "execute_result"
    }
   ],
   "source": [
    "import numpy as np\n",
    "from scipy import stats\n",
    "from scipy.optimize import minimize\n",
    "from sklearn.utils import check_consistent_length\n",
    "import matplotlib.pyplot as plt\n",
    "import seaborn as sns\n",
    "sns.set()\n",
    "np.seterr(all='ignore')"
   ]
  },
  {
   "cell_type": "markdown",
   "metadata": {},
   "source": [
    "## Main Functions\n",
    "[1] Robert R. Sokal and F. James Rohlf. Biometry: The Principles and Practices of Statistics in BiologicalResearch. W.H. Freeman, 3 edition, 1994  \n",
    "[2] Hoey, J. (2012). The Two-Way Likelihood Ratio (G) Test and Comparison to Two-Way Chi Squared Test."
   ]
  },
  {
   "cell_type": "code",
   "execution_count": 2,
   "metadata": {},
   "outputs": [],
   "source": [
    "def compute_dprime(tp, fp):\n",
    "    # untested\n",
    "    return stats.norm.ppf(tp) - stats.norm.ppf(fp)\n",
    "\n",
    "def compute_c_bias(tp, fp):\n",
    "    # untested\n",
    "    return - 0.5 * (stats.norm.ppf(tp) + stats.norm.ppf(fp))\n",
    "\n",
    "def accumulate(*arrays):\n",
    "    # untested\n",
    "    out = []\n",
    "    for a in arrays:\n",
    "        accumulated = np.cumsum(a)\n",
    "        out.append(accumulated)\n",
    "    return out\n",
    "\n",
    "def to_freq(*arrays):\n",
    "    # untested\n",
    "    out = []\n",
    "    for a in arrays:\n",
    "        converted = np.array([(x + i / len(a)) / (max(a)+1) for i, x in enumerate(a, start=1)])\n",
    "        out.append(converted)\n",
    "    return out\n",
    "\n",
    "def convert_to_roc(a, b):\n",
    "    # untested\n",
    "    a_c, b_c = accumulate(a, b)\n",
    "    a_f, b_f = to_freq(a_c, b_c)\n",
    "    return a_f, b_f\n",
    "\n",
    "def g_test(x, x_freq, expected, x_max):\n",
    "    # untested\n",
    "    # Refs: [1, 2]\n",
    "    # Two-way log-likelihood G-test\n",
    "    # Implementation issues:\n",
    "    #    depending on minimization starting variables, the log expressions can throw errors from negative values and div/0 etc. Numpy just warns and continues.\n",
    "    a = 2 * x * np.log(x_freq / expected) \n",
    "    b = 2 * (x_max - x) * np.log((1 - x_freq) / (1 - expected))\n",
    "    return a + b\n",
    "\n",
    "def threshold_model_expectation(R, noise_frequency):\n",
    "    # untested\n",
    "    # Get the expected values for signals and noises\n",
    "    expected_signal = ((1 - R) * noise_frequency + R)[:-1]\n",
    "    expected_noise = noise_frequency[:-1]\n",
    "    return expected_signal, expected_noise\n",
    "\n",
    "def signal_detection_model_expectation(d, c):\n",
    "    # untested\n",
    "    expected_signal = stats.norm.cdf(d / 2 - c)\n",
    "    expected_noise = stats.norm.cdf(-d / 2 - c)\n",
    "    return expected_signal, expected_noise\n",
    "\n",
    "def dual_process_model_expectation(R, d, c):\n",
    "    # untested\n",
    "    expected_signal = R + (1 - R) * stats.norm.cdf(d / 2 - c)\n",
    "    expected_noise = stats.norm.cdf(-d / 2 - c)\n",
    "    return expected_signal, expected_noise\n",
    "\n",
    "def detection_model(parameters, labels, signal, noise, model='sdt', optimizing=False):\n",
    "    # untested\n",
    "    # model options: 'threshold', 'sdt', 'dpsdt', 'thresh'\n",
    "    \n",
    "    # Implementation issues:\n",
    "    #    parameters and labels are specified as separate ndarrays arrays because of how the optimizer works. Maybe this can be improved?\n",
    "    \n",
    "    #------------------------- Check Inputs ---------------------------#\n",
    "    # Ensure equal length\n",
    "    check_consistent_length(signal, noise)\n",
    "    check_consistent_length(parameters, labels)\n",
    "    \n",
    "    # Accumulate (c) the signal and noise data\n",
    "    signal_c, noise_c = accumulate(signal, noise) # np.cumsum(signal), np.cumsum(noise)\n",
    "    # Get frequencies for the cumulative signal and noise\n",
    "    signal_f, noise_f = to_freq(signal_c, noise_c)\n",
    "    \n",
    "    #------------------------- Model Specific -------------------------#\n",
    "    if model == 'sdt':\n",
    "        if 'd' not in labels:\n",
    "            raise ValueError(f\"Either or both of `R` and `d` not specified in parameter labels. labels specified were: {labels}.\")\n",
    "        d = parameters[labels == 'd'].item()\n",
    "        c = parameters[(labels!='R') & (labels!='d')] # Can c_values be 0? what about 1?\n",
    "        exp_signal, exp_noise = signal_detection_model_expectation(d, c)\n",
    "        \n",
    "    elif model == 'dpsdt':\n",
    "        if ('R' not in labels) or ('d' not in labels):\n",
    "            raise ValueError(f\"Either or both of `R` and `d` not specified in parameter labels. labels specified were: {labels}.\")\n",
    "        # Grab the R and d values\n",
    "        R = parameters[labels == 'R'].item()\n",
    "        d = parameters[labels == 'd'].item()\n",
    "    \n",
    "        c = parameters[(labels!='R') & (labels!='d')] # Can c_values be 0? what about 1?\n",
    "        # Get the expected values for signals and noises\n",
    "        exp_signal, exp_noise = dual_process_model_expectation(R, d, c)\n",
    "    \n",
    "    elif model == 'thresh':\n",
    "        if ('R' not in labels):\n",
    "            raise ValueError(f\"Either or both of `R` and `d` not specified in parameter labels. labels specified were: {labels}.\")\n",
    "        R = parameters[labels == 'R'].item()\n",
    "        exp_signal, exp_noise = threshold_model_expectation(R, noise_f)\n",
    "    #------------------------------------------------------------------#\n",
    "\n",
    "    # Compute the gsquared using the dual process model parameters\n",
    "    #   Still getting runtime warnings about division. Function only works with numpy, so can't use math.\n",
    "    signal_gsquared = g_test(x=signal_c[:-1], x_freq=signal_f[:-1], expected=exp_signal, x_max=signal_c.max())\n",
    "    noise_gsquared = g_test(x=noise_c[:-1], x_freq=noise_f[:-1], expected=exp_noise, x_max=noise_c.max())\n",
    "    \n",
    "    g_squared_summed = np.sum([signal_gsquared, noise_gsquared])\n",
    "    \n",
    "    if optimizing:\n",
    "        return g_squared_summed\n",
    "    else:\n",
    "        return g_squared_summed, exp_signal, exp_noise\n",
    "\n",
    "\n",
    "def optimize_model(objective, labels, signal, noise, model, iterations=25, parameters=None, verbose=True):\n",
    "    for i in range(iterations):\n",
    "        try:\n",
    "            if not parameters:\n",
    "                # Random parameter initialization (default)\n",
    "                parameters = np.random.uniform(-.5, .5, len(labels))\n",
    "                optimizing = True # must set in order to return just the objective function\n",
    "                \n",
    "            opt = minimize(fun=objective, x0=parameters, args=(labels, signal, noise, model, optimizing), tol=1e-4)\n",
    "            if opt.success:\n",
    "                # Converged at (local?) minimum.\n",
    "                if verbose==True:\n",
    "                    print(opt)\n",
    "                else:\n",
    "                    print(\"Optimisation successful\\n\")\n",
    "                break\n",
    "            else:\n",
    "                raise ValueError(\"Optimisation unsuccessful\")\n",
    "        except:\n",
    "            opt = None\n",
    "    return opt"
   ]
  },
  {
   "cell_type": "markdown",
   "metadata": {},
   "source": [
    "## Testing the different models with example data"
   ]
  },
  {
   "cell_type": "code",
   "execution_count": 3,
   "metadata": {},
   "outputs": [],
   "source": [
    "# Example data\n",
    "signal = [508,224,172,135,119,63] # Signal present examples\n",
    "noise = [102,161,288,472,492,308] # Signal absent examples"
   ]
  },
  {
   "cell_type": "markdown",
   "metadata": {},
   "source": [
    "### 1.1. signal detection model"
   ]
  },
  {
   "cell_type": "code",
   "execution_count": 5,
   "metadata": {},
   "outputs": [
    {
     "name": "stdout",
     "output_type": "stream",
     "text": [
      "expected G²: 91.8424069319085\n",
      "found G²:91.84240693190836\n"
     ]
    }
   ],
   "source": [
    "# Arguments\n",
    "# Parameters randomly set in the fit_model function\n",
    "parameters = np.array([1.12279662339189, 0.871166834070118, 0.405779553457989, -0.0588639712751784, -0.644343940682155, -1.42214656169388])\n",
    "labels = np.array(['d', 'c1', 'c2', 'c3', 'c4', 'c5'])\n",
    "expected = 91.8424069319085\n",
    "\n",
    "model_fit, s, n = detection_model(parameters=parameters, labels=labels, signal=signal, noise=noise, model='sdt')\n",
    "\n",
    "np.allclose(model_fit, expected)\n",
    "print(f\"expected G\\N{SUPERSCRIPT TWO}: {expected}\\nfound G\\N{SUPERSCRIPT TWO}:{model_fit}\")"
   ]
  },
  {
   "cell_type": "markdown",
   "metadata": {},
   "source": [
    "#### 1.2. Optimizing signal detection model"
   ]
  },
  {
   "cell_type": "code",
   "execution_count": 6,
   "metadata": {},
   "outputs": [
    {
     "name": "stdout",
     "output_type": "stream",
     "text": [
      "      fun: 91.84240692669376\n",
      " hess_inv: array([[ 3.02293159e-04,  3.84966299e-05,  2.96731286e-08,\n",
      "        -3.34163267e-05, -6.06135146e-05, -8.53390508e-05],\n",
      "       [ 3.84966299e-05,  3.70744922e-04,  2.83875775e-06,\n",
      "        -6.58109382e-06, -1.38181927e-05, -3.68370368e-05],\n",
      "       [ 2.96731286e-08,  2.83875775e-06,  3.12073015e-04,\n",
      "         3.04808417e-06, -2.16095631e-06,  1.05495581e-05],\n",
      "       [-3.34163267e-05, -6.58109382e-06,  3.04808417e-06,\n",
      "         2.78581108e-04,  4.78553412e-06,  3.56048243e-06],\n",
      "       [-6.06135146e-05, -1.38181927e-05, -2.16095631e-06,\n",
      "         4.78553412e-06,  3.04307007e-04,  1.28404619e-05],\n",
      "       [-8.53390508e-05, -3.68370368e-05,  1.05495581e-05,\n",
      "         3.56048243e-06,  1.28404619e-05,  4.47163975e-04]])\n",
      "      jac: array([-2.28881836e-05,  3.05175781e-05, -4.67300415e-05,  4.38690186e-05,\n",
      "        2.38418579e-05,  4.86373901e-05])\n",
      "  message: 'Optimization terminated successfully.'\n",
      "     nfev: 200\n",
      "      nit: 15\n",
      "     njev: 25\n",
      "   status: 0\n",
      "  success: True\n",
      "        x: array([ 1.12279755,  0.87116766,  0.4057801 , -0.05886363, -0.64434339,\n",
      "       -1.42214575])\n",
      "optimal parameters found:\n",
      "{'d': 1.1227975488818998, 'c1': 0.871167663725769, 'c2': 0.40578009597898573, 'c3': -0.05886363257055817, 'c4': -0.6443433864409088, 'c5': -1.4221457521140521}\n"
     ]
    }
   ],
   "source": [
    "opt = optimize_model(objective=detection_model, labels=labels, signal=signal, noise=noise,model='sdt')\n",
    "\n",
    "if opt:\n",
    "    if opt.success:\n",
    "        optimal_sdt_parameters = {l:v for l, v in zip(labels, opt.x)}\n",
    "        print(f\"optimal parameters found:\\n{optimal_sdt_parameters}\")\n",
    "        sdt_g, sdt_signal, sdt_noise = detection_model(parameters=parameters, labels=labels, signal=signal, noise=noise, model='sdt')\n",
    "else:\n",
    "    print(\"Failure.\")"
   ]
  },
  {
   "cell_type": "markdown",
   "metadata": {},
   "source": [
    "### 2.1. dual process model"
   ]
  },
  {
   "cell_type": "code",
   "execution_count": 7,
   "metadata": {},
   "outputs": [
    {
     "name": "stdout",
     "output_type": "stream",
     "text": [
      "expected G²: 22.6109004733713\n",
      "found G²:22.61090047337164\n"
     ]
    }
   ],
   "source": [
    "parameters = np.array([0.329619769943936, 0.669264105874664, 1.30349820023126, 0.683947212600267, 0.145604921894773, -0.473844533479801, -1.25079084398587])\n",
    "labels = np.array(['R', 'd', 'c1', 'c2', 'c3', 'c4', 'c5'])\n",
    "expected = 22.6109004733713\n",
    "\n",
    "model_fit, s, n = detection_model(parameters=parameters, labels=labels, signal=signal, noise=noise, model='dpsdt')\n",
    "\n",
    "np.allclose(model_fit, expected)\n",
    "print(f\"expected G\\N{SUPERSCRIPT TWO}: {expected}\\nfound G\\N{SUPERSCRIPT TWO}:{model_fit}\")"
   ]
  },
  {
   "cell_type": "markdown",
   "metadata": {},
   "source": [
    "#### 2.2. Optimizing dual-process model"
   ]
  },
  {
   "cell_type": "code",
   "execution_count": 16,
   "metadata": {},
   "outputs": [
    {
     "name": "stdout",
     "output_type": "stream",
     "text": [
      "      fun: 22.61090046759457\n",
      " hess_inv: array([[ 0.00033465, -0.00062081,  0.00052302,  0.00040708,  0.00030935,\n",
      "         0.00024754,  0.00020713],\n",
      "       [-0.00062081,  0.00161792, -0.00108465, -0.00086295, -0.00068359,\n",
      "        -0.00057715, -0.00050631],\n",
      "       [ 0.00052302, -0.00108465,  0.00170636,  0.00067336,  0.00052251,\n",
      "         0.00042086,  0.00034271],\n",
      "       [ 0.00040708, -0.00086295,  0.00067336,  0.00100341,  0.00040004,\n",
      "         0.00032856,  0.00027117],\n",
      "       [ 0.00030935, -0.00068359,  0.00052251,  0.00040004,  0.00064499,\n",
      "         0.00025375,  0.00023109],\n",
      "       [ 0.00024754, -0.00057715,  0.00042086,  0.00032856,  0.00025375,\n",
      "         0.00053583,  0.00018874],\n",
      "       [ 0.00020713, -0.00050631,  0.00034271,  0.00027117,  0.00023109,\n",
      "         0.00018874,  0.00062673]])\n",
      "      jac: array([-6.65187836e-05, -1.14440918e-05, -4.76837158e-07,  4.38690186e-05,\n",
      "        3.81469727e-06, -1.16825104e-05, -8.58306885e-06])\n",
      "  message: 'Optimization terminated successfully.'\n",
      "     nfev: 216\n",
      "      nit: 16\n",
      "     njev: 24\n",
      "   status: 0\n",
      "  success: True\n",
      "        x: array([ 0.32962098,  0.66926211,  1.30350123,  0.68394968,  0.14560627,\n",
      "       -0.47384297, -1.25078956])\n",
      "optimal parameters found:\n",
      "{'R': 0.32962097892266207, 'd': 0.6692621132180285, 'c1': 1.3035012337669747, 'c2': 0.6839496834407891, 'c3': 0.14560626638856855, 'c4': -0.4738429672140854, 'c5': -1.250789559218878}\n"
     ]
    }
   ],
   "source": [
    "opt = optimize_model(objective=detection_model, labels=labels, signal=signal, noise=noise, iterations=500, model='dpsdt')\n",
    "\n",
    "if opt:\n",
    "    if opt.success:\n",
    "        optimal_dpsdt_parameters = {l:v for l, v in zip(labels, opt.x)}\n",
    "        print(f\"optimal parameters found:\\n{optimal_dpsdt_parameters}\")\n",
    "        \n",
    "else:\n",
    "    print(\"Failure.\")"
   ]
  },
  {
   "cell_type": "markdown",
   "metadata": {},
   "source": [
    "### 3.1. threshold model"
   ]
  },
  {
   "cell_type": "code",
   "execution_count": 17,
   "metadata": {},
   "outputs": [
    {
     "name": "stdout",
     "output_type": "stream",
     "text": [
      "expected G²: 163.275256078908\n",
      "found G²:163.27525607890783\n"
     ]
    }
   ],
   "source": [
    "parameters = np.array([0.520274590415736])\n",
    "labels = np.array(['R'])\n",
    "expected = 163.275256078908\n",
    "model_fit, s, n = detection_model(parameters=parameters, labels=labels, signal=signal, noise=noise, model='thresh')\n",
    "\n",
    "np.allclose(model_fit, expected)\n",
    "print(f\"expected G\\N{SUPERSCRIPT TWO}: {expected}\\nfound G\\N{SUPERSCRIPT TWO}:{model_fit}\")"
   ]
  },
  {
   "cell_type": "markdown",
   "metadata": {},
   "source": [
    "#### 3.2. Optimizing threshold model"
   ]
  },
  {
   "cell_type": "markdown",
   "metadata": {},
   "source": [
    "This one gives errors and needs more work. It does work if you run it enough times."
   ]
  },
  {
   "cell_type": "code",
   "execution_count": 46,
   "metadata": {},
   "outputs": [
    {
     "name": "stdout",
     "output_type": "stream",
     "text": [
      "      fun: 163.27525607888924\n",
      " hess_inv: array([[4.13964449e-05]])\n",
      "      jac: array([-6.86645508e-05])\n",
      "  message: 'Optimization terminated successfully.'\n",
      "     nfev: 24\n",
      "      nit: 6\n",
      "     njev: 8\n",
      "   status: 0\n",
      "  success: True\n",
      "        x: array([0.52027462])\n",
      "optimal parameters found:\n",
      "{'R': 0.5202746213906495}\n"
     ]
    }
   ],
   "source": [
    "opt = optimize_model(objective=detection_model, labels=labels, signal=signal, noise=noise, model='thresh')\n",
    "\n",
    "if opt:\n",
    "    if opt.success:\n",
    "        optimal_threshold_parameters = {l:v for l, v in zip(labels, opt.x)}\n",
    "        print(f\"optimal parameters found:\\n{optimal_threshold_parameters}\")\n",
    "else:\n",
    "    print(\"Failure.\")"
   ]
  },
  {
   "cell_type": "markdown",
   "metadata": {},
   "source": [
    "# Plotting"
   ]
  },
  {
   "cell_type": "code",
   "execution_count": 47,
   "metadata": {},
   "outputs": [
    {
     "data": {
      "image/png": "[encoded data removed]",
      "text/plain": [
       "<Figure size 500x500 with 1 Axes>"
      ]
     },
     "metadata": {},
     "output_type": "display_data"
    }
   ],
   "source": [
    "sdt_g, sdt_signal, sdt_noise = detection_model(parameters=np.array(list(optimal_sdt_parameters.values())),\n",
    "                                               labels=np.array(list(optimal_sdt_parameters.keys())),\n",
    "                                               signal=signal,\n",
    "                                               noise=noise,\n",
    "                                               model='sdt')\n",
    "\n",
    "dpsdt_g, dpsdt_signal, dpsdt_noise = detection_model(parameters=np.array(list(optimal_dpsdt_parameters.values())),\n",
    "                                                     labels=np.array(list(optimal_dpsdt_parameters.keys())),\n",
    "                                                     signal=signal,\n",
    "                                                     noise=noise,\n",
    "                                                     model='dpsdt')\n",
    "\n",
    "threshold_g, threshold_signal, threshold_noise = detection_model(parameters=np.array(list(optimal_threshold_parameters.values())),\n",
    "                                                                 labels=np.array(list(optimal_threshold_parameters.keys())),\n",
    "                                                                 signal=signal,\n",
    "                                                                 noise=noise,\n",
    "                                                                 model='thresh')\n",
    "\n",
    "performances = {'SDT':sdt_g, 'DPSDT':dpsdt_g, 'threshold':threshold_g}\n",
    "\n",
    "# Find best fit\n",
    "best_fit_g = performances[min(performances)]\n",
    "best_fit_model = min(performances, key=performances.get)\n",
    "\n",
    "fig, ax = plt.subplots(figsize=(5,5),dpi=100)\n",
    "ax.set_xlim(0, 1); ax.set_ylim(0, 1)\n",
    "ax.plot([0,1],[0,1], c='k',ls='dashed')\n",
    "\n",
    "# Plot the models\n",
    "ax.plot(threshold_noise, threshold_signal, label='threshold')\n",
    "ax.plot(sdt_noise, sdt_signal, label='EVSDT')\n",
    "ax.plot(dpsdt_noise, dpsdt_signal, label='DPSDT')\n",
    "\n",
    "# Plot the data\n",
    "roc_signal, roc_noise = convert_to_roc(signal, noise)\n",
    "ax.scatter(roc_noise[:-1], roc_signal[:-1], facecolors='none', edgecolors='k', label='data', zorder=10)\n",
    "\n",
    "ax.set_xlabel('1 - specificity')\n",
    "ax.set_ylabel('sensitivity')\n",
    "\n",
    "ax.set_title(f\"ROC Models\\nbest fit {best_fit_model}: G\\N{SUPERSCRIPT TWO} = {best_fit_g:.2f}\")\n",
    "ax.legend()\n",
    "plt.show()"
   ]
  }
 ],
 "metadata": {
  "kernelspec": {
   "display_name": "Python 3",
   "language": "python",
   "name": "python3"
  },
  "language_info": {
   "codemirror_mode": {
    "name": "ipython",
    "version": 3
   },
   "file_extension": ".py",
   "mimetype": "text/x-python",
   "name": "python",
   "nbconvert_exporter": "python",
   "pygments_lexer": "ipython3",
   "version": "3.7.4"
  }
 },
 "nbformat": 4,
 "nbformat_minor": 4
}
