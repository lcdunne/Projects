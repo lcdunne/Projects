{
 "cells": [
  {
   "cell_type": "markdown",
   "metadata": {},
   "source": [
    "# Fitting Signal Detection Measures to ROC Curves"
   ]
  },
  {
   "cell_type": "code",
   "execution_count": 201,
   "metadata": {},
   "outputs": [
    {
     "data": {
      "text/plain": [
       "{'divide': 'warn', 'over': 'warn', 'under': 'ignore', 'invalid': 'warn'}"
      ]
     },
     "execution_count": 201,
     "metadata": {},
     "output_type": "execute_result"
    }
   ],
   "source": [
    "import numpy as np\n",
    "from scipy import stats\n",
    "from scipy.optimize import minimize\n",
    "from sklearn.utils import check_consistent_length\n",
    "import matplotlib.pyplot as plt\n",
    "import seaborn as sns\n",
    "sns.set()\n",
    "np.seterr(all='ignore')"
   ]
  },
  {
   "cell_type": "markdown",
   "metadata": {},
   "source": [
    "## Main Functions\n",
    "[1] Robert R. Sokal and F. James Rohlf. Biometry: The Principles and Practices of Statistics in BiologicalResearch. W.H. Freeman, 3 edition, 1994  \n",
    "[2] Hoey, J. (2012). The Two-Way Likelihood Ratio (G) Test and Comparison to Two-Way Chi Squared Test."
   ]
  },
  {
   "cell_type": "code",
   "execution_count": 241,
   "metadata": {},
   "outputs": [],
   "source": [
    "def compute_dprime(tp, fp):\n",
    "    # untested\n",
    "    return stats.norm.ppf(tp) - stats.norm.ppf(fp)\n",
    "\n",
    "def compute_c_bias(tp, fp):\n",
    "    # untested\n",
    "    return - 0.5 * (stats.norm.ppf(tp) + stats.norm.ppf(fp))\n",
    "\n",
    "def accumulate(*arrays):\n",
    "    # untested\n",
    "    out = []\n",
    "    for a in arrays:\n",
    "        accumulated = np.cumsum(a)\n",
    "        out.append(accumulated)\n",
    "    return out\n",
    "\n",
    "def to_freq(*arrays):\n",
    "    # untested\n",
    "    out = []\n",
    "    for a in arrays:\n",
    "        converted = np.array([(x + i / len(a)) / (max(a)+1) for i, x in enumerate(a, start=1)])\n",
    "        out.append(converted)\n",
    "    return out\n",
    "\n",
    "def convert_to_roc(a, b):\n",
    "    # untested\n",
    "    a_c, b_c = accumulate(a, b)\n",
    "    a_f, b_f = to_freq(a_c, b_c)\n",
    "    return a_f, b_f\n",
    "\n",
    "def g_test(x, x_freq, expected, x_max):\n",
    "    # untested\n",
    "    # Refs: [1, 2]\n",
    "    # Two-way log-likelihood G-test\n",
    "    # Implementation issues:\n",
    "    #    depending on minimization starting variables, the log expressions can throw errors from negative values and div/0 etc. Numpy just warns and continues.\n",
    "    a = 2 * x * np.log(x_freq / expected) \n",
    "    b = 2 * (x_max - x) * np.log((1 - x_freq) / (1 - expected))\n",
    "    return a + b\n",
    "\n",
    "def threshold_model_expectation(R, noise_frequency):\n",
    "    # untested\n",
    "    # Get the expected values for signals and noises\n",
    "    expected_signal = ((1 - R) * noise_frequency + R)[:-1]\n",
    "    expected_noise = noise_frequency[:-1]\n",
    "    return expected_signal, expected_noise\n",
    "\n",
    "def signal_detection_model_expectation(d, c):\n",
    "    # untested\n",
    "    expected_signal = stats.norm.cdf(d / 2 - c)\n",
    "    expected_noise = stats.norm.cdf(-d / 2 - c)\n",
    "    return expected_signal, expected_noise\n",
    "\n",
    "def dual_process_model_expectation(R, d, c):\n",
    "    # untested\n",
    "    expected_signal = R + (1 - R) * stats.norm.cdf(d / 2 - c)\n",
    "    expected_noise = stats.norm.cdf(-d / 2 - c)\n",
    "    return expected_signal, expected_noise\n",
    "\n",
    "def detection_model(parameters, labels, signal, noise, model='sdt'):\n",
    "    # untested\n",
    "    # model options: 'threshold', 'sdt', 'dpsdt', 'thresh'\n",
    "    \n",
    "    # Implementation issues:\n",
    "    #    parameters and labels are specified as separate ndarrays arrays because of how the optimizer works. Maybe this can be improved?\n",
    "    \n",
    "    #------------------------- Check Inputs ---------------------------#\n",
    "    # Ensure equal length\n",
    "    check_consistent_length(signal, noise)\n",
    "    check_consistent_length(parameters, labels)\n",
    "    \n",
    "    # Accumulate (c) the signal and noise data\n",
    "    signal_c, noise_c = accumulate(signal, noise) # np.cumsum(signal), np.cumsum(noise)\n",
    "    # Get frequencies for the cumulative signal and noise\n",
    "    signal_f, noise_f = to_freq(signal_c, noise_c)\n",
    "    \n",
    "    #------------------------- Model Specific -------------------------#\n",
    "    if model == 'sdt':\n",
    "        if 'd' not in labels:\n",
    "            raise ValueError(f\"Either or both of `R` and `d` not specified in parameter labels. labels specified were: {labels}.\")\n",
    "        d = parameters[labels == 'd'].item()\n",
    "        c = parameters[(labels!='R') & (labels!='d')] # Can c_values be 0? what about 1?\n",
    "        exp_signal, exp_noise = signal_detection_model_expectation(d, c)\n",
    "        \n",
    "    elif model == 'dpsdt':\n",
    "        if ('R' not in labels) or ('d' not in labels):\n",
    "            raise ValueError(f\"Either or both of `R` and `d` not specified in parameter labels. labels specified were: {labels}.\")\n",
    "        # Grab the R and d values\n",
    "        R = parameters[labels == 'R'].item()\n",
    "        d = parameters[labels == 'd'].item()\n",
    "    \n",
    "        c = parameters[(labels!='R') & (labels!='d')] # Can c_values be 0? what about 1?\n",
    "        # Get the expected values for signals and noises\n",
    "        exp_signal, exp_noise = dual_process_model_expectation(R, d, c)\n",
    "    \n",
    "    elif model == 'thresh':\n",
    "        if ('R' not in labels):\n",
    "            raise ValueError(f\"Either or both of `R` and `d` not specified in parameter labels. labels specified were: {labels}.\")\n",
    "        R = parameters[labels == 'R'].item()\n",
    "        exp_signal, exp_noise = threshold_model_expectation(R, noise_f)\n",
    "    #------------------------------------------------------------------#\n",
    "\n",
    "    # Compute the gsquared using the dual process model parameters\n",
    "    #   Still getting runtime warnings about division. Function only works with numpy, so can't use math.\n",
    "    signal_gsquared = g_test(x=signal_c[:-1], x_freq=signal_f[:-1], expected=exp_signal, x_max=signal_c.max())\n",
    "    noise_gsquared = g_test(x=noise_c[:-1], x_freq=noise_f[:-1], expected=exp_noise, x_max=noise_c.max())\n",
    "    \n",
    "    g_squared_summed = np.sum([signal_gsquared, noise_gsquared])\n",
    "    \n",
    "    return g_squared_summed\n",
    "\n",
    "\n",
    "def optimize_model(objective, labels, signal, noise, model, iterations=25, parameters=None, verbose=True):\n",
    "    for i in range(iterations):\n",
    "        try:\n",
    "            if not parameters:\n",
    "                # Random parameter initialization (default)\n",
    "                parameters = np.random.uniform(-.5, .5, len(labels))\n",
    "                \n",
    "            opt = minimize(fun=objective, x0=parameters, args=(labels, signal, noise, model), tol=1e-4)\n",
    "            if opt.success:\n",
    "                # Converged at (local?) minimum.\n",
    "                if verbose==True:\n",
    "                    print(opt)\n",
    "                else:\n",
    "                    print(\"Optimisation successful\\n\")\n",
    "                break\n",
    "            else:\n",
    "                raise ValueError(\"Optimisation unsuccessful\")\n",
    "        except:\n",
    "            opt = None\n",
    "    return opt"
   ]
  },
  {
   "cell_type": "markdown",
   "metadata": {},
   "source": [
    "## Testing the different models with example data"
   ]
  },
  {
   "cell_type": "code",
   "execution_count": 205,
   "metadata": {},
   "outputs": [],
   "source": [
    "# Example data\n",
    "signal = [508,224,172,135,119,63] # Signal present examples\n",
    "noise = [102,161,288,472,492,308] # Signal absent examples"
   ]
  },
  {
   "cell_type": "markdown",
   "metadata": {},
   "source": [
    "### 1.1. signal detection model"
   ]
  },
  {
   "cell_type": "code",
   "execution_count": 206,
   "metadata": {},
   "outputs": [
    {
     "name": "stdout",
     "output_type": "stream",
     "text": [
      "expected G²: 91.8424069319085\n",
      "found G²:91.84240693190836\n"
     ]
    }
   ],
   "source": [
    "# Arguments\n",
    "# Parameters randomly set in the fit_model function\n",
    "parameters = np.array([1.12279662339189, 0.871166834070118, 0.405779553457989, -0.0588639712751784, -0.644343940682155, -1.42214656169388])\n",
    "labels = np.array(['d', 'c1', 'c2', 'c3', 'c4', 'c5'])\n",
    "expected = 91.8424069319085\n",
    "\n",
    "model_fit = detection_model(parameters=parameters, labels=labels, signal=signal, noise=noise, model='sdt')\n",
    "\n",
    "np.allclose(model_fit, expected)\n",
    "print(f\"expected G\\N{SUPERSCRIPT TWO}: {expected}\\nfound G\\N{SUPERSCRIPT TWO}:{model_fit}\")"
   ]
  },
  {
   "cell_type": "markdown",
   "metadata": {},
   "source": [
    "#### 1.2. Optimizing signal detection model"
   ]
  },
  {
   "cell_type": "code",
   "execution_count": 207,
   "metadata": {},
   "outputs": [
    {
     "name": "stdout",
     "output_type": "stream",
     "text": [
      "      fun: 91.8424069266944\n",
      " hess_inv: array([[ 2.91125674e-04,  3.00533900e-05, -1.29080022e-06,\n",
      "        -3.06755184e-05, -5.65082130e-05, -8.67297607e-05],\n",
      "       [ 3.00533900e-05,  3.89386897e-04, -2.84210799e-06,\n",
      "        -4.88970974e-06, -2.71882648e-08, -4.62776898e-06],\n",
      "       [-1.29080022e-06, -2.84210799e-06,  2.88876527e-04,\n",
      "        -1.53119583e-06, -1.35947970e-05,  6.96552166e-06],\n",
      "       [-3.06755184e-05, -4.88970974e-06, -1.53119583e-06,\n",
      "         2.70395950e-04,  6.71287497e-06,  1.03260707e-05],\n",
      "       [-5.65082130e-05, -2.71882648e-08, -1.35947970e-05,\n",
      "         6.71287497e-06,  2.96333906e-04,  1.47781556e-05],\n",
      "       [-8.67297607e-05, -4.62776898e-06,  6.96552166e-06,\n",
      "         1.03260707e-05,  1.47781556e-05,  4.78866801e-04]])\n",
      "      jac: array([-7.91549683e-05,  2.95639038e-05, -5.24520874e-05,  3.05175781e-05,\n",
      "       -2.86102295e-05,  3.33786011e-05])\n",
      "  message: 'Optimization terminated successfully.'\n",
      "     nfev: 245\n",
      "      nit: 17\n",
      "     njev: 30\n",
      "   status: 0\n",
      "  success: True\n",
      "        x: array([ 1.12279756,  0.87116768,  0.40578008, -0.05886363, -0.64434339,\n",
      "       -1.42214576])\n",
      "optimal parameters found:\n",
      "{'d': 1.1227975586161438, 'c1': 0.8711676777794933, 'c2': 0.4057800767593298, 'c3': -0.05886362746333112, 'c4': -0.6443433881089655, 'c5': -1.4221457649422276}\n"
     ]
    }
   ],
   "source": [
    "opt = optimize_model(objective=detection_model, labels=labels, signal=signal, noise=noise,model='sdt')\n",
    "\n",
    "if opt:\n",
    "    if opt.success:\n",
    "        optimal_parameters = {l:v for l, v in zip(labels, opt.x)}\n",
    "        print(f\"optimal parameters found:\\n{optimal_parameters}\")\n",
    "else:\n",
    "    print(\"Failure.\")"
   ]
  },
  {
   "cell_type": "markdown",
   "metadata": {},
   "source": [
    "### 2.1. dual process model"
   ]
  },
  {
   "cell_type": "code",
   "execution_count": 208,
   "metadata": {},
   "outputs": [
    {
     "name": "stdout",
     "output_type": "stream",
     "text": [
      "expected G²: 22.6109004733713\n",
      "found G²:22.61090047337164\n"
     ]
    }
   ],
   "source": [
    "parameters = np.array([0.329619769943936, 0.669264105874664, 1.30349820023126, 0.683947212600267, 0.145604921894773, -0.473844533479801, -1.25079084398587])\n",
    "labels = np.array(['R', 'd', 'c1', 'c2', 'c3', 'c4', 'c5'])\n",
    "expected = 22.6109004733713\n",
    "\n",
    "model_fit = detection_model(parameters=parameters, labels=labels, signal=signal, noise=noise, model='dpsdt')\n",
    "\n",
    "np.allclose(model_fit, expected)\n",
    "print(f\"expected G\\N{SUPERSCRIPT TWO}: {expected}\\nfound G\\N{SUPERSCRIPT TWO}:{model_fit}\")"
   ]
  },
  {
   "cell_type": "markdown",
   "metadata": {},
   "source": [
    "#### 2.2. Optimizing dual-process model"
   ]
  },
  {
   "cell_type": "code",
   "execution_count": 232,
   "metadata": {},
   "outputs": [
    {
     "name": "stdout",
     "output_type": "stream",
     "text": [
      "      fun: 22.610900467600636\n",
      " hess_inv: array([[ 0.00034061, -0.00064488,  0.00053924,  0.00041126,  0.00031524,\n",
      "         0.00025528,  0.00024294],\n",
      "       [-0.00064488,  0.00170723, -0.00112455, -0.00087625, -0.00068964,\n",
      "        -0.0006099 , -0.00060252],\n",
      "       [ 0.00053924, -0.00112455,  0.00185877,  0.00064056,  0.00052529,\n",
      "         0.00040842,  0.00041313],\n",
      "       [ 0.00041126, -0.00087625,  0.00064056,  0.00099473,  0.00039944,\n",
      "         0.00034665,  0.00033083],\n",
      "       [ 0.00031524, -0.00068964,  0.00052529,  0.00039944,  0.00069496,\n",
      "         0.00026026,  0.0002439 ],\n",
      "       [ 0.00025528, -0.0006099 ,  0.00040842,  0.00034665,  0.00026026,\n",
      "         0.0005609 ,  0.00021259],\n",
      "       [ 0.00024294, -0.00060252,  0.00041313,  0.00033083,  0.0002439 ,\n",
      "         0.00021259,  0.00072682]])\n",
      "      jac: array([-2.00271606e-05,  8.82148743e-06, -5.34057617e-05, -1.66893005e-05,\n",
      "       -2.38418579e-06, -1.28746033e-05,  0.00000000e+00])\n",
      "  message: 'Optimization terminated successfully.'\n",
      "     nfev: 270\n",
      "      nit: 22\n",
      "     njev: 30\n",
      "   status: 0\n",
      "  success: True\n",
      "        x: array([ 0.32962095,  0.66926221,  1.30350114,  0.68394964,  0.14560623,\n",
      "       -0.473843  , -1.25078961])\n",
      "optimal parameters found:\n",
      "{'R': 0.32962094502373385, 'd': 0.6692622106712375, 'c1': 1.3035011351129917, 'c2': 0.6839496376173382, 'c3': 0.14560623391960953, 'c4': -0.4738429998514099, 'c5': -1.2507896120721613}\n"
     ]
    }
   ],
   "source": [
    "opt = optimize_model(objective=detection_model, labels=labels, signal=signal, noise=noise, iterations=500, model='dpsdt')\n",
    "\n",
    "if opt:\n",
    "    if opt.success:\n",
    "        optimal_parameters = {l:v for l, v in zip(labels, opt.x)}\n",
    "        print(f\"optimal parameters found:\\n{optimal_parameters}\")\n",
    "else:\n",
    "    print(\"Failure.\")"
   ]
  },
  {
   "cell_type": "markdown",
   "metadata": {},
   "source": [
    "### 3.1. threshold model"
   ]
  },
  {
   "cell_type": "code",
   "execution_count": 234,
   "metadata": {},
   "outputs": [
    {
     "name": "stdout",
     "output_type": "stream",
     "text": [
      "expected G²: 163.275256078908\n",
      "found G²:163.27525607890783\n"
     ]
    }
   ],
   "source": [
    "parameters = np.array([0.520274590415736])\n",
    "labels = np.array(['R'])\n",
    "expected = 163.275256078908\n",
    "model_fit = detection_model(parameters=parameters, labels=labels, signal=signal, noise=noise, model='thresh')\n",
    "\n",
    "np.allclose(model_fit, expected)\n",
    "print(f\"expected G\\N{SUPERSCRIPT TWO}: {expected}\\nfound G\\N{SUPERSCRIPT TWO}:{model_fit}\")"
   ]
  },
  {
   "cell_type": "markdown",
   "metadata": {},
   "source": [
    "#### 3.2. Optimizing threshold model"
   ]
  },
  {
   "cell_type": "markdown",
   "metadata": {},
   "source": [
    "This one gives errors and needs more work. It does work if you run it enough times."
   ]
  },
  {
   "cell_type": "code",
   "execution_count": 240,
   "metadata": {},
   "outputs": [
    {
     "name": "stdout",
     "output_type": "stream",
     "text": [
      "163.27525607888896\n",
      "      fun: 163.27525607888896\n",
      " hess_inv: array([[4.14264526e-05]])\n",
      "      jac: array([-7.62939453e-06])\n",
      "  message: 'Optimization terminated successfully.'\n",
      "     nfev: 21\n",
      "      nit: 5\n",
      "     njev: 7\n",
      "   status: 0\n",
      "  success: True\n",
      "        x: array([0.52027462])\n",
      "optimal parameters found:\n",
      "{'R': 0.5202746232698504}\n"
     ]
    }
   ],
   "source": [
    "opt = optimize_model(objective=detection_model, labels=labels, signal=signal, noise=noise, model='thresh')\n",
    "\n",
    "if opt:\n",
    "    if opt.success:\n",
    "        optimal_parameters = {l:v for l, v in zip(labels, opt.x)}\n",
    "        print(f\"optimal parameters found:\\n{optimal_parameters}\")\n",
    "else:\n",
    "    print(\"Failure.\")"
   ]
  },
  {
   "cell_type": "code",
   "execution_count": null,
   "metadata": {},
   "outputs": [],
   "source": []
  }
 ],
 "metadata": {
  "kernelspec": {
   "display_name": "Python 3",
   "language": "python",
   "name": "python3"
  },
  "language_info": {
   "codemirror_mode": {
    "name": "ipython",
    "version": 3
   },
   "file_extension": ".py",
   "mimetype": "text/x-python",
   "name": "python",
   "nbconvert_exporter": "python",
   "pygments_lexer": "ipython3",
   "version": "3.7.4"
  }
 },
 "nbformat": 4,
 "nbformat_minor": 4
}
