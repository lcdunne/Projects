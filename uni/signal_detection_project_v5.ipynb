{
 "cells": [
  {
   "cell_type": "code",
   "execution_count": 1,
   "metadata": {},
   "outputs": [
    {
     "data": {
      "text/plain": [
       "{'divide': 'warn', 'over': 'warn', 'under': 'ignore', 'invalid': 'warn'}"
      ]
     },
     "execution_count": 1,
     "metadata": {},
     "output_type": "execute_result"
    }
   ],
   "source": [
    "import numpy as np\n",
    "import pandas as pd\n",
    "from scipy import stats\n",
    "from scipy.optimize import minimize\n",
    "from sklearn.utils import check_consistent_length\n",
    "import matplotlib.pyplot as plt\n",
    "import seaborn as sns\n",
    "# sns.set()\n",
    "np.seterr(all='ignore')"
   ]
  },
  {
   "cell_type": "markdown",
   "metadata": {},
   "source": [
    "## Helper Functions"
   ]
  },
  {
   "cell_type": "code",
   "execution_count": 2,
   "metadata": {},
   "outputs": [
    {
     "name": "stdout",
     "output_type": "stream",
     "text": [
      "Original data:\n",
      "\tSignal ratings: [13, 10, 12, 11, 9, 1]\n",
      "\tNoise ratings:[4, 4, 22, 35, 15, 4]\n",
      "\n",
      "Accumulated data:\n",
      "\t[array([13, 23, 35, 46, 55, 56], dtype=int32), array([ 4,  8, 30, 65, 80, 84], dtype=int32)]\n",
      "\n",
      "ROC data:\n",
      "\t[array([0.23099415, 0.40935673, 0.62280702, 0.81871345, 0.97953216,\n",
      "       1.        ]), array([0.04901961, 0.09803922, 0.35882353, 0.77254902, 0.95098039,\n",
      "       1.        ])]\n",
      "\n",
      "Z-score of ROC data:\n",
      "\t[[-0.73557677 -0.22920003  0.3128614   0.91047303  2.04418097         inf]\n",
      " [-1.65443473 -1.29280523 -0.36160523  0.74726774  1.65443473         inf]]\n",
      "\n"
     ]
    }
   ],
   "source": [
    "def accumulate(*arrays):\n",
    "    accumulated = []\n",
    "    for a in arrays:\n",
    "        accum = np.cumsum(a)\n",
    "        accumulated.append(accum)\n",
    "    \n",
    "    # In case it's just a single array pop it out\n",
    "    if len(accumulated) == 1:\n",
    "        accumulated = accumulated.pop()\n",
    "    \n",
    "    return accumulated\n",
    "\n",
    "def roc(*arrays, truncate=False):\n",
    "    # Assumes inputs are observed counts at each decision point on scale\n",
    "    rates = []\n",
    "    for a in arrays:\n",
    "        # accumulate it then calculate it\n",
    "        accum = accumulate(a)\n",
    "        frequency = np.array([(x + i / len(accum)) / (max(accum)+1) for i, x in enumerate(accum, start=1)])\n",
    "        if truncate:\n",
    "            # trim off the last element\n",
    "            frequency = frequency[:-1]\n",
    "        rates.append(frequency)\n",
    "    \n",
    "    if len(rates) == 1:\n",
    "        rates = rates.pop()\n",
    "    \n",
    "    return rates\n",
    "\n",
    "def z_score(*arrays):\n",
    "    # compute the z score of ROC data\n",
    "    z_arrays = []\n",
    "    for a in arrays:\n",
    "        z_arrays.append(stats.norm.ppf(a))\n",
    "    \n",
    "    if len(z_arrays) == 1:\n",
    "        z_arrays = z_arrays.pop()\n",
    "    \n",
    "    return z_arrays\n",
    "\n",
    "signal, noise = [13,10,12,11,9,1],[4,4,22,35,15,4]\n",
    "print(f\"Original data:\\n\\tSignal ratings: {signal}\\n\\tNoise ratings:{noise}\\n\")\n",
    "print(f\"Accumulated data:\\n\\t{accumulate(signal, noise)}\\n\")\n",
    "print(f\"ROC data:\\n\\t{roc(signal, noise)}\\n\")\n",
    "print(f\"Z-score of ROC data:\\n\\t{z_score(roc(signal, noise))}\\n\")"
   ]
  },
  {
   "cell_type": "markdown",
   "metadata": {},
   "source": [
    "## Model Functions"
   ]
  },
  {
   "cell_type": "code",
   "execution_count": 3,
   "metadata": {},
   "outputs": [],
   "source": [
    "def high_threshold(R=None, noise_roc=None):\n",
    "    # R will become the intercept on the ROC plot\n",
    "    # noise_roc is optional;\n",
    "    #    if provided, then it should be roc-ified & truncated with roc(noise, truncate=True)\n",
    "    if noise_roc is None:\n",
    "        # theoretical\n",
    "        noise_roc = np.array([0, 1])\n",
    "        \n",
    "    # Enforce numpy array\n",
    "    noise_roc = np.array(noise_roc)\n",
    "    \n",
    "    # Compute threshold x and y\n",
    "    x = noise_roc\n",
    "    y = (1 - R) * noise_roc + R\n",
    "    \n",
    "    return x, y\n",
    "\n",
    "\n",
    "def signal_detection(d=None, c=None, signal_var=1):\n",
    "    if c is None:\n",
    "        # theoretical\n",
    "        c = np.linspace(-5, 5, 500)\n",
    "    # Enforce numpy\n",
    "    c = np.array(c)\n",
    "    \n",
    "    # Compute signal detection x & y with optional unequal variance\n",
    "    x = stats.norm.cdf(-d / 2 - c) # noise distribution\n",
    "    y = stats.norm.cdf(d / 2 - c, scale=signal_var) # signal distribution\n",
    "    \n",
    "    return x, y\n",
    "\n",
    "\n",
    "def dual_process(R=None, d=None, c=None):\n",
    "    if c is None:\n",
    "        # theoretical\n",
    "        c = np.linspace(-5, 5, 500)\n",
    "    # Enforce numpy\n",
    "    c = np.array(c)\n",
    "    \n",
    "    # Compute dual-process (signal detection + high threshold) x & y\n",
    "    x = stats.norm.cdf(-d / 2 - c)\n",
    "    y = R + (1 - R) * stats.norm.cdf(d / 2 - c)\n",
    "    \n",
    "    return x, y\n",
    "\n",
    "def strength_estimate(d=None, c=None):\n",
    "    # E.g. recognition familiarity\n",
    "    c = np.array(c)\n",
    "    cut_point = int(np.median(np.arange(0, len(c))))\n",
    "    return stats.norm.cdf(d / 2 - c[cut_point])"
   ]
  },
  {
   "cell_type": "markdown",
   "metadata": {},
   "source": [
    "## Optimization Functions"
   ]
  },
  {
   "cell_type": "markdown",
   "metadata": {},
   "source": [
    "Using SciPy's `optimize.minimize()`, we need to provide an array of variable parameters (e.g. R, d, c1 .... cn), and these must be in array-like form."
   ]
  },
  {
   "cell_type": "markdown",
   "metadata": {},
   "source": [
    "[1] Robert R. Sokal and F. James Rohlf. Biometry: The Principles and Practices of Statistics in BiologicalResearch. W.H. Freeman, 3 edition, 1994  \n",
    "[2] Hoey, J. (2012). [The Two-Way Likelihood Ratio (G) Test and Comparison to Two-Way Chi Squared Test.](https://arxiv.org/pdf/1206.4881.pdf)"
   ]
  },
  {
   "cell_type": "code",
   "execution_count": 4,
   "metadata": {},
   "outputs": [],
   "source": [
    "def g_test(x, x_freq, expected, x_max):\n",
    "    # Refs: [1, 2]\n",
    "    # Two-way log-likelihood G-test\n",
    "    # Implementation issues:\n",
    "    #    depending on minimization starting variables, the log expressions can throw errors from negative values and div/0 etc. Numpy just warns and continues.\n",
    "    a = 2 * x * np.log(x_freq / expected) \n",
    "    b = 2 * (x_max - x) * np.log((1 - x_freq) / (1 - expected))\n",
    "    return a + b\n",
    "\n",
    "def sum_g_squared(parameters, labels, signal, noise, model='sdt', optimizing=False):\n",
    "    # Formerly called `detection_model()`\n",
    "    # parameters: variable parameters to adjust if optimizing. Must be list even if size of 1\n",
    "    # labels: string names corresponding to each parameters. MUST be of equal size to parameters, also list\n",
    "    # signal: observed counts at each decision point on scale for SIGNAL PRESENT trials\n",
    "    # noise: observed counts at each decision point on scale for SIGNAL ABSENT trials\n",
    "    # model: optional, can be any one of 'ht' (high threshold), 'sdt' (signal detection theory), 'dpsdt' (dual process + signal detection).\n",
    "    # optimizing: no longer needed optional, default False. When set to true, only the sum of g squared is returned\n",
    "    \n",
    "    assert len(parameters)==len(labels), print(f\"Length of parameters ({len(parameters)}) does not match length of labels ({len(labels)}).\")\n",
    "    # Ensure parameter and labels are numpy\n",
    "    parameters = np.array(parameters)\n",
    "    labels = np.array(labels)\n",
    "    \n",
    "    # Get the ROC data and truncate it ready for computing sum of g squared (avoids values of 0 or 1)\n",
    "    signal_roc, noise_roc = roc(signal, noise, truncate=True)\n",
    "    # Get the accumulated inputs as well but store the maximum value before truncating.\n",
    "    signal_acc, noise_acc = accumulate(signal, noise)\n",
    "    # The maximum value should always be last after the accumulate function is applied, so we just index it.\n",
    "    signal_acc_max = signal_acc[-1] # extract the maximum\n",
    "    signal_acc = signal_acc[:-1] # truncate signal_acc\n",
    "    noise_acc_max = noise_acc[-1]\n",
    "    noise_acc = noise_acc[:-1]\n",
    "    \n",
    "    if model=='ht':\n",
    "        # High Threshold. labels `variable` MUST contain `R`, with corresponding `parameters` value of R\n",
    "        if ('R' not in labels):\n",
    "            raise ValueError(f\"`R`not specified in parameter labels. labels specified were: {labels}.\")\n",
    "        R = parameters[labels == 'R'].item()\n",
    "        noise_expected, signal_expected = high_threshold(R=R, noise_roc=noise_roc)\n",
    "        \n",
    "    elif model in ['sdt', 'uvsdt']:\n",
    "        if 'd' not in labels:\n",
    "            raise ValueError(f\"Either or both of `R` and `d` not specified in parameter labels. labels specified were: {labels}.\")\n",
    "        # Check if signal variance specified, otherwise just keep it at default. determine c parameters\n",
    "        if 'signal_var' in labels:\n",
    "            signal_var = parameters[labels == 'signal_var']\n",
    "            c = parameters[(labels!='R') & (labels!='d') & (labels!='signal_var')]\n",
    "        else:\n",
    "            # Explicitly keeping at default var\n",
    "            signal_var = 1\n",
    "            c = parameters[(labels!='R') & (labels!='d')]\n",
    "        d = parameters[labels == 'd'].item()\n",
    "        noise_expected, signal_expected = signal_detection(d=d, c=c, signal_var=signal_var)\n",
    "        \n",
    "    elif model == 'dpsdt':\n",
    "        if ('R' not in labels) or ('d' not in labels):\n",
    "            raise ValueError(f\"`R` not specified in parameter labels. labels specified were: {labels}.\")\n",
    "        # Grab the R and d values\n",
    "        R = parameters[labels == 'R'].item()\n",
    "        d = parameters[labels == 'd'].item()\n",
    "        \n",
    "        c = parameters[(labels!='R') & (labels!='d')]\n",
    "        # Get the expected values for signals and noises\n",
    "        noise_expected, signal_expected = dual_process(R, d, c)\n",
    "    \n",
    "    # compute g squared values for signal and noise data\n",
    "    signal_g_squared = g_test(x=signal_acc, x_freq=signal_roc, expected=signal_expected, x_max=signal_acc_max)\n",
    "    noise_g_squared = g_test(x=noise_acc, x_freq=noise_roc, expected=noise_expected, x_max=noise_acc_max)\n",
    "    \n",
    "    sum_of_g_squared = np.sum([signal_g_squared, noise_g_squared])\n",
    "    \n",
    "    if optimizing:\n",
    "        return sum_of_g_squared\n",
    "    else:\n",
    "        return sum_of_g_squared, noise_expected, signal_expected\n",
    "\n",
    "def optimize_model(objective, labels, signal, noise, model, iterations=100):\n",
    "\n",
    "    for i in range(1, int(iterations+1)):    \n",
    "        if i==1:\n",
    "            parameters = np.zeros(len(labels)) # if other testing is shit then might need to rethink this\n",
    "            parameters[labels == 'R'] = 0.99 # Make sure R has a good starting value (if it exists)  \n",
    "        else:\n",
    "            parameters[labels!='R'] = np.random.random_sample(len(parameters[labels!='R']))\n",
    "\n",
    "        # print(f\"Starting parameters:\\n\\t\\t{parameters}\")\n",
    "        optimizing = True # requires True to suppress multiple return values from the objective function\n",
    "\n",
    "        opt = minimize(fun=objective, x0=parameters, args=(labels, signal, noise, model, optimizing), tol=1e-4)\n",
    "        \n",
    "        if opt.success:\n",
    "            break\n",
    "    \n",
    "    opt_parameters = opt.x\n",
    "    status = \"successful\" if opt.success else \"failed\"\n",
    "    print(f\"{model} optimization {status} over {i} iterations\")\n",
    "    print(f\"{status} starting parameters:{parameters}\")\n",
    "    print(f\"{status} final parameters:{opt_parameters}\")\n",
    "    print(f\"{status} G\\N{SUPERSCRIPT TWO}: {opt.fun}\\n\")\n",
    "    \n",
    "    # Get the labels & values corresponding to NON decision variables i.e. NOT c values\n",
    "    non_decision_labels = labels[np.isin(labels, ['R', 'd', 'signal_var'])]\n",
    "    non_decision_parameters = opt_parameters[np.isin(labels, ['R', 'd', 'signal_var'])]\n",
    "    \n",
    "    # Get the decision labels and values\n",
    "    decision_labels = labels[~np.isin(labels, ['R', 'd', 'signal_var'])]\n",
    "    decision_parameters = opt_parameters[~np.isin(labels, ['R', 'd', 'signal_var'])]\n",
    "    \n",
    "    output = {'model':model, 'optimize_result':opt, \n",
    "              'data':{'signal':signal,'noise':noise},'minimum':opt.fun, 'labels':labels, \n",
    "              'c_vars':decision_parameters, 'c_labels':decision_labels,\n",
    "             'non_c_vars':{l:p for l, p in zip(non_decision_labels, non_decision_parameters)}}\n",
    "    \n",
    "    return output\n",
    "\n",
    "def get_processes():\n",
    "    return"
   ]
  },
  {
   "cell_type": "code",
   "execution_count": 5,
   "metadata": {},
   "outputs": [],
   "source": [
    "# # Example data 1\n",
    "# signal = [508,224,172,135,119,63] # Signal present examples\n",
    "# noise = [102,161,288,472,492,308] # Signal absent examples\n",
    "\n",
    "# # Example data 2\n",
    "example_2 = {'signal':[431,218,211, 167,119, 69], 'noise':[102,161,288,472,492,308],\n",
    "             'ht_parameters': np.array([0.459564977806581]),# R\n",
    "             'ht_labels': np.array(['R']),\n",
    "             'ht_testing_G': 198.940934458771,\n",
    "             \n",
    "             'sdt_parameters':np.array([1.01439006038876, # d\n",
    "                                        0.958740557949141,\n",
    "                                        0.48797217624754,\n",
    "                                        -0.00935955993937299,\n",
    "                                        -0.614403917274333,\n",
    "                                        -1.37492636400985]),\n",
    "             'sdt_labels':np.array(['d', 'c1', 'c2', 'c3', 'c4', 'c5']),\n",
    "             'sdt_testing_G': 58.6027491579573,\n",
    "             \n",
    "             'uvsdt_parameters':np.array([1.30,1.16,1.04,0.48,-0.08,-0.74,-1.53]),\n",
    "             'uvsdt_labels':np.array(['signal_var', 'd', 'c1','c2','c3','c4','c5']),\n",
    "             'uvsdt_testing_G':2.633,\n",
    "             \n",
    "             'dpsdt_parameters':np.array([0.240020821540452, # R\n",
    "                                          0.691305735458908, # d\n",
    "                                          1.28497655282868,\n",
    "                                          0.687197522357083,\n",
    "                                          0.134196177689579,\n",
    "                                          -0.495119831811334,\n",
    "                                          -1.25674378226952]),\n",
    "             'dpsdt_labels':np.array(['R', 'd', 'c1', 'c2', 'c3', 'c4', 'c5']),\n",
    "             'dpsdt_testing_G': 17.4073551151917}\n",
    "\n",
    "\n",
    "\n",
    "# Example data 3 -----------------------------------------------------#\n",
    "signal = [13,10,12,11,9,1] # Signal present examples\n",
    "noise = [4,4,22,35,15,4] # Signal absent examples\n",
    "example_3 = {'signal':[13,10,12,11,9,1], 'noise':[4,4,22,35,15,4],\n",
    "             'ht_parameters': np.array([0.290197112447361]),\n",
    "             'ht_labels': np.array(['R']),\n",
    "             'ht_testing_G':5.097716096,\n",
    "             'sdt_parameters':np.array([0.688841386383297, \n",
    "                                        1.17690699236133,\n",
    "                                        0.753893701189727,\n",
    "                                        0.0233356921180415,\n",
    "                                        -0.91519735628651,\n",
    "                                        -1.95591806972918]),\n",
    "             'sdt_labels':np.array(['d', 'c1', 'c2', 'c3', 'c4', 'c5']),\n",
    "             'sdt_testing_G':7.70924692362448,\n",
    "             \n",
    "             'uvsdt_parameters':np.array([1.39,0.80,1.34,0.83,-0.04,-1.09,-2.15]),\n",
    "             'uvsdt_labels':np.array(['signal_var', 'd', 'c1','c2','c3','c4','c5']),\n",
    "             'uvsdt_testing_G':1.922,\n",
    "             \n",
    "             'dpsdt_parameters':np.array([0.223677389183856,\n",
    "                                          0.262320983747282,\n",
    "                                          1.61202361145935,\n",
    "                                          1.08632760356576,\n",
    "                                          0.190627724971991,\n",
    "                                          -0.794393708266734,\n",
    "                                          -1.81546835049758]),\n",
    "             'dpsdt_labels':np.array(['R', 'd', 'c1', 'c2', 'c3', 'c4', 'c5']),\n",
    "            'dpsdt_testing_G':3.05123502713937}"
   ]
  },
  {
   "cell_type": "code",
   "execution_count": 6,
   "metadata": {},
   "outputs": [
    {
     "name": "stdout",
     "output_type": "stream",
     "text": [
      "Testing the uvsdt model:\n",
      "\n",
      "Labels: ['signal_var' 'd' 'c1' 'c2' 'c3' 'c4' 'c5']\n",
      "Parameters:[ 1.3   1.16  1.04  0.48 -0.08 -0.74 -1.53]\n",
      "\n",
      "\tSignal: [0.35457785 0.53399123 0.70764803 0.84512061 0.94311952 1.        ]\n",
      "\tNoise: [0.05601243 0.14437135 0.30235746 0.56122076 0.83104898 1.        ]\n",
      "\n",
      "\tSum G² = 2.7168429314247975 (testing G² = 2.633)\n",
      "\tExpected signal:[0.05261614 0.1445723  0.30853754 0.56355946 0.82894387]\n",
      "\tExpected noise:[0.36172709 0.53065763 0.69416543 0.84503874 0.94771352]\n"
     ]
    }
   ],
   "source": [
    "model = 'uvsdt'\n",
    "example = example_2\n",
    "\n",
    "# Testing -----------------\n",
    "signal = example['signal']\n",
    "noise = example['noise']\n",
    "\n",
    "labels = example[f'{model}_labels']\n",
    "parameters = example[f'{model}_parameters']\n",
    "testing_g = example[f'{model}_testing_G']\n",
    "\n",
    "print(f\"Testing the {model} model:\\n\")\n",
    "print(f\"Labels: {labels}\")\n",
    "print(f\"Parameters:{parameters}\\n\")\n",
    "\n",
    "# Get ROC data and print it to make sure it's right\n",
    "s, n = roc(signal, noise)\n",
    "print(f\"\\tSignal: {s}\\n\\tNoise: {n}\\n\")\n",
    "\n",
    "g, exp_s, exp_n = sum_g_squared(parameters=parameters, labels=labels,\n",
    "               signal=signal, noise=noise, model=model)\n",
    "print(f\"\\tSum G\\N{SUPERSCRIPT TWO} = {g} (testing G\\N{SUPERSCRIPT TWO} = {testing_g})\\n\\tExpected signal:{exp_s}\\n\\tExpected noise:{exp_n}\")"
   ]
  },
  {
   "cell_type": "markdown",
   "metadata": {},
   "source": [
    "## Test optimization on selected models"
   ]
  },
  {
   "cell_type": "code",
   "execution_count": 7,
   "metadata": {},
   "outputs": [
    {
     "name": "stdout",
     "output_type": "stream",
     "text": [
      "[431, 218, 211, 167, 119, 69] [102, 161, 288, 472, 492, 308]\n",
      "dpsdt optimization successful over 2 iterations\n",
      "successful starting parameters:[0.99       0.03564558 0.70673425 0.13041846 0.42150666 0.1603173\n",
      " 0.23330495]\n",
      "successful final parameters:[ 0.24002455  0.69130005  1.28498368  0.68720208  0.13419966 -0.49511591\n",
      " -1.25673969]\n",
      "successful G²: 17.407355084537485\n",
      "\n"
     ]
    }
   ],
   "source": [
    "model = 'dpsdt'\n",
    "example = example_2\n",
    "\n",
    "# Testing -----------------\n",
    "signal = example['signal']\n",
    "noise = example['noise']\n",
    "print(signal, noise)\n",
    "\n",
    "labels = example[f'{model}_labels']\n",
    "# parameters = example[f'{model}_parameters']\n",
    "# testing_g = example[f'{model}_testing_G']\n",
    "\n",
    "dpsdt_model = optimize_model(objective=sum_g_squared,labels=labels, signal=signal,noise=noise, model=model)\n",
    "# ht_model = optimize_model(objective=sum_g_squared,labels=labels, signal=signal,noise=noise, model=model)"
   ]
  },
  {
   "cell_type": "code",
   "execution_count": 8,
   "metadata": {},
   "outputs": [
    {
     "name": "stdout",
     "output_type": "stream",
     "text": [
      "[ 1.28498368  0.68720208  0.13419966 -0.49511591 -1.25673969]\n",
      "{'R': 0.2400245491578016, 'd': 0.6913000475836844}\n"
     ]
    },
    {
     "data": {
      "text/plain": [
       "dict_keys(['model', 'optimize_result', 'data', 'minimum', 'labels', 'c_vars', 'c_labels', 'non_c_vars'])"
      ]
     },
     "execution_count": 8,
     "metadata": {},
     "output_type": "execute_result"
    }
   ],
   "source": [
    "print(dpsdt_model['c_vars'])\n",
    "print(dpsdt_model['non_c_vars'])\n",
    "dpsdt_model.keys()"
   ]
  },
  {
   "cell_type": "markdown",
   "metadata": {},
   "source": [
    "### Run optimization on all models"
   ]
  },
  {
   "cell_type": "code",
   "execution_count": 9,
   "metadata": {},
   "outputs": [
    {
     "name": "stdout",
     "output_type": "stream",
     "text": [
      "ht optimization successful over 1 iterations\n",
      "successful starting parameters:[0.99]\n",
      "successful final parameters:[0.45956523]\n",
      "successful G²: 198.9409344580076\n",
      "\n",
      "sdt optimization successful over 2 iterations\n",
      "successful starting parameters:[0.13872247 0.51105355 0.47514118 0.51857898 0.08874247 0.28004974]\n",
      "successful final parameters:[ 1.01439065  0.95874155  0.48797282 -0.00935914 -0.61440323 -1.37492515]\n",
      "successful G²: 58.60274915210255\n",
      "\n",
      "uvsdt optimization successful over 14 iterations\n",
      "successful starting parameters:[0.30196103 0.94519879 0.29704248 0.61846797 0.13452891 0.14220841\n",
      " 0.14896498]\n",
      "successful final parameters:[ 1.29998883  1.16450629  1.03713733  0.47598937 -0.08245248 -0.73677081\n",
      " -1.52927782]\n",
      "successful G²: 2.633156515660181\n",
      "\n",
      "dpsdt optimization successful over 9 iterations\n",
      "successful starting parameters:[0.99       0.13421498 0.72259349 0.27063891 0.50319213 0.16600761\n",
      " 0.20576787]\n",
      "successful final parameters:[ 0.24002455  0.69130006  1.28498367  0.68720208  0.13419967 -0.49511592\n",
      " -1.25673969]\n",
      "successful G²: 17.40735508453816\n",
      "\n"
     ]
    }
   ],
   "source": [
    "example = example_2\n",
    "model_names = ['ht', 'sdt', 'uvsdt', 'dpsdt']\n",
    "\n",
    "opt_models = {}\n",
    "\n",
    "for m in model_names:\n",
    "    opt_model = optimize_model(objective=sum_g_squared,\n",
    "                               labels=example[m+'_labels'],\n",
    "                               signal=signal,\n",
    "                               noise=noise,\n",
    "                               model=m)\n",
    "    opt_models[m] = opt_model"
   ]
  },
  {
   "cell_type": "code",
   "execution_count": 10,
   "metadata": {},
   "outputs": [
    {
     "name": "stdout",
     "output_type": "stream",
     "text": [
      "dict_keys(['ht', 'sdt', 'uvsdt', 'dpsdt'])\n",
      "dict_keys(['model', 'optimize_result', 'data', 'minimum', 'labels', 'c_vars', 'c_labels', 'non_c_vars'])\n",
      "17.40735508453816\n",
      "{'R': 0.24002455319737934, 'd': 0.6913000633171695}\n",
      "[ 1.28498367  0.68720208  0.13419967 -0.49511592 -1.25673969]\n"
     ]
    }
   ],
   "source": [
    "m = 'dpsdt'\n",
    "print(opt_models.keys())\n",
    "print(opt_models[m].keys())\n",
    "print(opt_models[m]['minimum'])\n",
    "print(opt_models[m]['non_c_vars'])\n",
    "print(opt_models[m]['c_vars']) # the decision variable"
   ]
  },
  {
   "cell_type": "markdown",
   "metadata": {},
   "source": [
    "## Plot Results"
   ]
  },
  {
   "cell_type": "code",
   "execution_count": 11,
   "metadata": {},
   "outputs": [
    {
     "data": {
      "text/plain": [
       "ht_g       198.940934\n",
       "sdt_g       58.602749\n",
       "dpsdt_g     17.407355\n",
       "uvsdt_g      2.633157\n",
       "dtype: float64"
      ]
     },
     "execution_count": 11,
     "metadata": {},
     "output_type": "execute_result"
    }
   ],
   "source": [
    "# Get model performances as G values\n",
    "model_performances = pd.Series({m+\"_g\":opt_models[m]['minimum'] for m in opt_models.keys()}).sort_values(ascending=False)\n",
    "model_performances"
   ]
  },
  {
   "cell_type": "code",
   "execution_count": 12,
   "metadata": {},
   "outputs": [
    {
     "name": "stdout",
     "output_type": "stream",
     "text": [
      "0.24002455319737934 0.5837320671029634\n",
      "recollection    0.240025\n",
      "familiarity     0.583732\n",
      "dtype: float64\n"
     ]
    }
   ],
   "source": [
    "# Get the parameter estimates\n",
    "recollection = opt_models['dpsdt']['non_c_vars']['R']\n",
    "d = opt_models['dpsdt']['non_c_vars']['d']\n",
    "c_vars = opt_models['dpsdt']['c_vars']\n",
    "familiarity = strength_estimate(d=d, c=c_vars)\n",
    "print(recollection, familiarity)\n",
    "\n",
    "parameter_estimates = pd.Series({'recollection':recollection, 'familiarity':familiarity})\n",
    "print(parameter_estimates)"
   ]
  },
  {
   "cell_type": "code",
   "execution_count": 13,
   "metadata": {},
   "outputs": [],
   "source": [
    "# Get the theoretical data\n",
    "ht_x, ht_y = high_threshold(opt_models['ht']['non_c_vars']['R'])\n",
    "\n",
    "sdt_x, sdt_y = signal_detection(d=opt_models['sdt']['non_c_vars']['d'])\n",
    "\n",
    "uvsdt_x, uvsdt_y = signal_detection(d=opt_models['uvsdt']['non_c_vars']['d'], \n",
    "                                    signal_var=opt_models['uvsdt']['non_c_vars']['signal_var'])\n",
    "\n",
    "dpsdt_x, dpsdt_y = dual_process(R=opt_models['dpsdt']['non_c_vars']['R'],\n",
    "                                d=opt_models['dpsdt']['non_c_vars']['d'])"
   ]
  },
  {
   "cell_type": "code",
   "execution_count": 14,
   "metadata": {},
   "outputs": [
    {
     "name": "stdout",
     "output_type": "stream",
     "text": [
      "Familiarity = 0.5837320671029634\n",
      "Recollection = 0.24002455319737934\n"
     ]
    },
    {
     "data": {
      "image/png": "[encoded data removed]",
      "text/plain": [
       "<Figure size 1000x500 with 3 Axes>"
      ]
     },
     "metadata": {
      "needs_background": "light"
     },
     "output_type": "display_data"
    }
   ],
   "source": [
    "fig = plt.figure(figsize=(10,5), dpi=100)\n",
    "ax0 = fig.add_subplot(1,2,1)\n",
    "ax1 = fig.add_subplot(2,2,2)\n",
    "ax2 = fig.add_subplot(2,2,4)\n",
    "\n",
    "ax0.plot([0,1], [0,1], c='gray', ls='dotted')\n",
    "\n",
    "# Plot observed data\n",
    "ax0.plot(*roc(noise, signal, truncate=True), marker='o', label='observed data')\n",
    "\n",
    "# plotting models\n",
    "ax0.plot(ht_x, ht_y, label='H-Thresh')\n",
    "ax0.plot(sdt_x, sdt_y, label='SDT')\n",
    "ax0.plot(uvsdt_x, uvsdt_y, label='UVSDT')\n",
    "ax0.plot(dpsdt_x, dpsdt_y, label='DP+SDT')\n",
    "\n",
    "ax0.set_ylim(0,1)\n",
    "ax0.set_xlim(0,1)\n",
    "ax0.set_xlabel('1 - specificity')\n",
    "ax0.set_ylabel('sensitivity')\n",
    "ax0.legend(loc='lower right')\n",
    "ax0.set_title('ROC')\n",
    "\n",
    "\n",
    "# Parameter Estimates plot\n",
    "print(f\"Familiarity = {familiarity}\\nRecollection = {recollection}\")\n",
    "parameter_estimates.plot(kind='bar', edgecolor='k', rot=0, title='Parameter Estimates \\n(Dual Process Model)', color='grey', ax=ax1)\n",
    "ax1.set_xlabel('estimate')\n",
    "ax1.set_ylabel('%')\n",
    "ax1.set_ylim(0,1)\n",
    "\n",
    "\n",
    "# Model Performance plot\n",
    "model_performances.plot(kind='bar', edgecolor='k', rot=0, title='Log Likelihood Model Performance', color='gray', ax=ax2)\n",
    "ax2.set_xlabel('model')\n",
    "ax2.set_ylabel('G\\N{SUPERSCRIPT TWO}')\n",
    "\n",
    "plt.tight_layout()\n",
    "plt.show()"
   ]
  }
 ],
 "metadata": {
  "kernelspec": {
   "display_name": "Python 3",
   "language": "python",
   "name": "python3"
  },
  "language_info": {
   "codemirror_mode": {
    "name": "ipython",
    "version": 3
   },
   "file_extension": ".py",
   "mimetype": "text/x-python",
   "name": "python",
   "nbconvert_exporter": "python",
   "pygments_lexer": "ipython3",
   "version": "3.7.4"
  }
 },
 "nbformat": 4,
 "nbformat_minor": 4
}
