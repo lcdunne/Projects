{
 "cells": [
  {
   "cell_type": "markdown",
   "metadata": {},
   "source": [
    "# Fitting Signal Detection Measures to ROC Curves"
   ]
  },
  {
   "cell_type": "code",
   "execution_count": 1,
   "metadata": {},
   "outputs": [
    {
     "data": {
      "text/plain": [
       "{'divide': 'warn', 'over': 'warn', 'under': 'ignore', 'invalid': 'warn'}"
      ]
     },
     "execution_count": 1,
     "metadata": {},
     "output_type": "execute_result"
    }
   ],
   "source": [
    "import numpy as np\n",
    "from scipy import stats\n",
    "from scipy.optimize import minimize\n",
    "from sklearn.utils import check_consistent_length\n",
    "import matplotlib.pyplot as plt\n",
    "import seaborn as sns\n",
    "sns.set()\n",
    "np.seterr(all='ignore')"
   ]
  },
  {
   "cell_type": "markdown",
   "metadata": {},
   "source": [
    "## Functions"
   ]
  },
  {
   "cell_type": "code",
   "execution_count": 2,
   "metadata": {},
   "outputs": [],
   "source": [
    "def compute_dprime(tp, fp):\n",
    "    return stats.norm.ppf(tp) - stats.norm.ppf(fp)\n",
    "\n",
    "\n",
    "def compute_c_bias(tp, fp):\n",
    "    return - 0.5 * (stats.norm.ppf(tp) + stats.norm.ppf(fp))\n",
    "\n",
    "\n",
    "def to_freq(*arrays):\n",
    "    # Better version of `convert_to_freq()`\n",
    "    out = []\n",
    "    for a in arrays:\n",
    "        converted = np.array([(x + i / len(a)) / (max(a)+1) for i, x in enumerate(a, start=1)])\n",
    "        out.append(converted)\n",
    "    return out\n",
    "\n",
    "\n",
    "def g_squared_dual_process(x, x_freq, expected, x_max):\n",
    "    # Better version, supports vectorisation\n",
    "    a = 2 * x * np.log(x_freq / expected) \n",
    "    b = 2 * (x_max - x) * np.log((1 - x_freq) / (1 - expected))\n",
    "    return a + b\n",
    "\n",
    "\n",
    "def dual_process_model(parameters, labels, signal, noise):\n",
    "    # Better than the first, vectorised\n",
    "    \n",
    "    # length of parameters must equal length of labels\n",
    "    assert len(parameters) == len(labels), print(f\"Length of parameters ({len(parameter)}) different from length of labels ({len(labels)}).\")\n",
    "    \n",
    "    # Ensure signal and noise are numpy arrays\n",
    "    parameters, labels = np.array(parameters), np.array(labels)\n",
    "    signal, noise = np.array(signal), np.array(noise)\n",
    "    # Ensure they are equal length\n",
    "    check_consistent_length(signal, noise)\n",
    "    \n",
    "    # Grab the R and d values\n",
    "    R = parameters[labels == 'R'].item()\n",
    "    d = parameters[labels == 'd'].item()\n",
    "    # Grab the c values\n",
    "    c_values = parameters[(labels!='R') & (labels!='d')]\n",
    "    \n",
    "    # Accumulate the signal and noise data\n",
    "    signal_c, noise_c = np.cumsum(signal), np.cumsum(noise)\n",
    "    \n",
    "    # Get the expected values for signals and noises\n",
    "    exp_signal = R + (1 - R) * stats.norm.cdf(d / 2 - c_values)\n",
    "    exp_noise = stats.norm.cdf(-d / 2 - c_values)\n",
    "    \n",
    "    # Get frequencies for the cumulative signal and noise\n",
    "    signal_f, noise_f = to_freq(signal_c, noise_c)\n",
    "    \n",
    "    # Compute the expected frequencies for signal and noise\n",
    "    exp_signal = R + (1 - R) * stats.norm.cdf(d / 2 - c_values)\n",
    "    exp_noise = stats.norm.cdf(-d / 2 - c_values)\n",
    "\n",
    "    # Compute the gsquared using the dual process model parameters\n",
    "    #   Still getting runtime warnings about division. Function only works with numpy, so can't use math.\n",
    "    signal_gsquared = g_squared_dual_process(x=signal_c[:-1], x_freq=signal_f[:-1], expected=exp_signal, x_max=signal_c.max())\n",
    "    noise_gsquared = g_squared_dual_process(x=noise_c[:-1], x_freq=noise_f[:-1], expected=exp_noise, x_max=noise_c.max())\n",
    "    g_squared_summed = np.sum([signal_gsquared, noise_gsquared])\n",
    "    \n",
    "    return g_squared_summed"
   ]
  },
  {
   "cell_type": "markdown",
   "metadata": {},
   "source": [
    "## Testing"
   ]
  },
  {
   "cell_type": "code",
   "execution_count": 3,
   "metadata": {},
   "outputs": [
    {
     "data": {
      "text/plain": [
       "      fun: 22.610900467594025\n",
       " hess_inv: array([[ 0.00051274, -0.00124161,  0.0005865 ,  0.00048503,  0.00060602,\n",
       "         0.00041769,  0.00072408],\n",
       "       [-0.00124161,  0.00366373, -0.00148186, -0.00126668, -0.00166372,\n",
       "        -0.00113   , -0.00205172],\n",
       "       [ 0.0005865 , -0.00148186,  0.00146456,  0.00052447,  0.0007057 ,\n",
       "         0.00052884,  0.00090958],\n",
       "       [ 0.00048503, -0.00126668,  0.00052447,  0.00088932,  0.00060032,\n",
       "         0.00044096,  0.00077326],\n",
       "       [ 0.00060602, -0.00166372,  0.0007057 ,  0.00060032,  0.00109695,\n",
       "         0.00053351,  0.00094944],\n",
       "       [ 0.00041769, -0.00113   ,  0.00052884,  0.00044096,  0.00053351,\n",
       "         0.00066806,  0.00059014],\n",
       "       [ 0.00072408, -0.00205172,  0.00090958,  0.00077326,  0.00094944,\n",
       "         0.00059014,  0.0015598 ]])\n",
       "      jac: array([-3.86238098e-05, -2.28881836e-05,  6.67572021e-06,  1.76429749e-05,\n",
       "       -6.67572021e-06, -1.19209290e-05,  3.24249268e-05])\n",
       "  message: 'Optimization terminated successfully.'\n",
       "     nfev: 324\n",
       "      nit: 25\n",
       "     njev: 36\n",
       "   status: 0\n",
       "  success: True\n",
       "        x: array([ 0.32962098,  0.66926211,  1.30350122,  0.68394967,  0.14560628,\n",
       "       -0.47384296, -1.25078955])"
      ]
     },
     "execution_count": 3,
     "metadata": {},
     "output_type": "execute_result"
    }
   ],
   "source": [
    "signal = [508,224,172,135,119,63] # Signal present examples\n",
    "noise = [102,161,288,472,492,308] # Signal absent examples\n",
    "labels = np.array(['R', 'd', 'c1', 'c2', 'c3', 'c4', 'c5'])\n",
    "# parameters = np.random.uniform(0.25, 0.75, len(labels))\n",
    "iterations = 50\n",
    "\n",
    "for i in range(iterations):\n",
    "    try:\n",
    "        parameters = np.random.uniform(0.25, 0.75, len(labels))\n",
    "        opt = minimize(fun=dual_process_model, x0=parameters, args=(labels, signal, noise), tol=1e-4)\n",
    "        if opt.success:\n",
    "            # Converged at (local?) minimum.\n",
    "            break\n",
    "        else:\n",
    "            raise ValueError(\"Optimisation unsuccessful\")\n",
    "    except:\n",
    "        print(f\"Failure on iteration {i}, trying again...\")\n",
    "        \n",
    "opt"
   ]
  },
  {
   "cell_type": "markdown",
   "metadata": {},
   "source": [
    "### Visualise the results"
   ]
  },
  {
   "cell_type": "code",
   "execution_count": 4,
   "metadata": {},
   "outputs": [
    {
     "data": {
      "image/png": "[encoded data removed]",
      "text/plain": [
       "<Figure size 500x500 with 1 Axes>"
      ]
     },
     "metadata": {},
     "output_type": "display_data"
    },
    {
     "name": "stdout",
     "output_type": "stream",
     "text": [
      "AUC for data = 0.76\n"
     ]
    }
   ],
   "source": [
    "result = dict(opt)\n",
    "\n",
    "opt_parameters = result['x']\n",
    "GoF = result['fun']\n",
    "\n",
    "R = opt_parameters[0]\n",
    "d = opt_parameters[1]\n",
    "c_values = opt_parameters[2:]\n",
    "\n",
    "y_obs, x_obs = to_freq(np.cumsum(signal), np.cumsum(noise))\n",
    "\n",
    "# Get the expected values for signals and noises\n",
    "y_fitted = R + (1 - R) * stats.norm.cdf(d / 2 - c_values)\n",
    "x_fitted = stats.norm.cdf(-d / 2 - c_values)\n",
    "\n",
    "fig, ax = plt.subplots(figsize=(5,5), dpi=100)\n",
    "ax.plot([0,1], [0,1], ls='dashed', c='k')\n",
    "ax.plot(x_fitted, y_fitted, label='dual model', c='r')\n",
    "ax.scatter(x_obs, y_obs, label='observed')\n",
    "ax.set_xlim(0,1)\n",
    "ax.set_ylim(0,1)\n",
    "ax.legend(loc='center right')\n",
    "ax.set_title('G$^2$ = ' + str(round(GoF, 2)))\n",
    "plt.show()\n",
    "\n",
    "auc = (np.trapz(y_obs, x_obs))\n",
    "print(f\"AUC for data = {auc:.2f}\")"
   ]
  }
 ],
 "metadata": {
  "kernelspec": {
   "display_name": "Python 3",
   "language": "python",
   "name": "python3"
  },
  "language_info": {
   "codemirror_mode": {
    "name": "ipython",
    "version": 3
   },
   "file_extension": ".py",
   "mimetype": "text/x-python",
   "name": "python",
   "nbconvert_exporter": "python",
   "pygments_lexer": "ipython3",
   "version": "3.7.4"
  }
 },
 "nbformat": 4,
 "nbformat_minor": 4
}
