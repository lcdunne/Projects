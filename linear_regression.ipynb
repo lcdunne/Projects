{
 "cells": [
  {
   "cell_type": "markdown",
   "metadata": {},
   "source": [
    "# Linear Regression"
   ]
  },
  {
   "cell_type": "markdown",
   "metadata": {},
   "source": [
    "Regression answers the question of whether we can predict some *continuous* outcome $y$ from some predictor or set of predictors $X$. Regression is defined as:\n",
    "\n",
    "\\begin{equation*}\n",
    "\\hat{y} = \\beta_0 + \\beta_1x_1 + \\cdots + \\beta_nx_n\n",
    "\\end{equation*}\n",
    "\n",
    "This equation will return a predicted value of $y$, $\\hat{y}$, for any $X$ input. To do this, the $\\beta$ parameters must be solved for. The $\\beta$ coefficients tell us by how much we should scale $x$ by in order to predict the value of $y$ for that given value of $x$."
   ]
  },
  {
   "cell_type": "markdown",
   "metadata": {},
   "source": [
    "For example, in the following dataset, we plot house prices as a function of land size. A question would be: for a given size $x$, what could we predict the house price to be?"
   ]
  },
  {
   "cell_type": "code",
   "execution_count": 1,
   "metadata": {},
   "outputs": [
    {
     "data": {
      "image/png": "[encoded data removed]",
      "text/plain": [
       "<Figure size 432x288 with 1 Axes>"
      ]
     },
     "metadata": {
      "needs_background": "light"
     },
     "output_type": "display_data"
    }
   ],
   "source": [
    "import numpy as np\n",
    "import matplotlib.pyplot as plt\n",
    "\n",
    "path = r'C:\\Users\\L\\Documents\\GitHub'\n",
    "data = np.loadtxt(fname=f'{path}//ex1data2.txt', delimiter=',')\n",
    "\n",
    "X = data[:, 0] # Just using the first column.\n",
    "y = data[:, -1]\n",
    "\n",
    "def plot(X, y, title=None):\n",
    "    fig, ax = plt.subplots()\n",
    "    ax.scatter(X, y)\n",
    "    ax.set_xlabel('Feet (m$^2$)'), ax.set_ylabel('Price ($)')\n",
    "    ax.set_title(title)\n",
    "    return ax\n",
    "\n",
    "ax = plot(X,y)\n",
    "plt.show()"
   ]
  },
  {
   "cell_type": "markdown",
   "metadata": {},
   "source": [
    "Python has several libraries that allow us to run linear regression. The main choices are `Scipy`,`Scikit-Learn`, and `statsmodels`."
   ]
  },
  {
   "cell_type": "markdown",
   "metadata": {},
   "source": [
    "### Scipy"
   ]
  },
  {
   "cell_type": "code",
   "execution_count": 2,
   "metadata": {},
   "outputs": [],
   "source": [
    "from scipy import stats"
   ]
  },
  {
   "cell_type": "code",
   "execution_count": 3,
   "metadata": {},
   "outputs": [],
   "source": [
    "# Set the data\n",
    "X = data[:, 0]\n",
    "y = data[:, -1]"
   ]
  },
  {
   "cell_type": "code",
   "execution_count": 4,
   "metadata": {},
   "outputs": [
    {
     "name": "stdout",
     "output_type": "stream",
     "text": [
      "LinregressResult(slope=134.52528772024132, intercept=71270.49244872911, rvalue=0.8549875928781253, pvalue=2.0272680958766845e-14, stderr=12.164967291909832)\n"
     ]
    }
   ],
   "source": [
    "model = stats.linregress(X, y)\n",
    "print(model)"
   ]
  },
  {
   "cell_type": "markdown",
   "metadata": {},
   "source": [
    "This output is minimal, but has all of the key information that we're often after. We can now predict $y$:"
   ]
  },
  {
   "cell_type": "code",
   "execution_count": 5,
   "metadata": {},
   "outputs": [],
   "source": [
    "def predict(x, beta0, beta1):\n",
    "    return beta0 + (beta1 * x)"
   ]
  },
  {
   "cell_type": "code",
   "execution_count": 6,
   "metadata": {},
   "outputs": [
    {
     "name": "stdout",
     "output_type": "stream",
     "text": [
      "Scipy model predicts (y|x=3500) = $542108.9994695737\n"
     ]
    }
   ],
   "source": [
    "b0, b1 = model.intercept, model.slope\n",
    "spprediction = predict(3500, b0, b1)\n",
    "print(f\"Scipy model predicts (y|x={3500}) = ${spprediction}\")"
   ]
  },
  {
   "cell_type": "code",
   "execution_count": 7,
   "metadata": {},
   "outputs": [
    {
     "data": {
      "image/png": "[encoded data removed]",
      "text/plain": [
       "<Figure size 432x288 with 1 Axes>"
      ]
     },
     "metadata": {
      "needs_background": "light"
     },
     "output_type": "display_data"
    }
   ],
   "source": [
    "ax = plot(X, y, 'with scipy')\n",
    "ax.plot(X, predict(X, b0, b1), c='r') # Modeling y for each value of X\n",
    "ax.axhline(spprediction, c='grey', ls='dashed')\n",
    "ax.axvline(3500, c='grey', ls='dashed')\n",
    "plt.show()"
   ]
  },
  {
   "cell_type": "code",
   "execution_count": 8,
   "metadata": {},
   "outputs": [],
   "source": [
    "# params = np.array([[b0], [b1]])\n",
    "# np.c_[(np.ones(len(X)), X.reshape(-1,1))] @ params"
   ]
  },
  {
   "cell_type": "markdown",
   "metadata": {},
   "source": [
    "### Scikit-Learn"
   ]
  },
  {
   "cell_type": "code",
   "execution_count": 9,
   "metadata": {},
   "outputs": [],
   "source": [
    "from sklearn import linear_model"
   ]
  },
  {
   "cell_type": "code",
   "execution_count": 10,
   "metadata": {},
   "outputs": [],
   "source": [
    "X = data[:, 0].reshape(-1, 1)\n",
    "y = data[:, -1].reshape(-1, 1)\n",
    "m = len(y)\n",
    "X = np.c_[np.ones(m), X]\n",
    "lm = linear_model.LinearRegression()\n",
    "model = lm.fit(X,y)"
   ]
  },
  {
   "cell_type": "code",
   "execution_count": 11,
   "metadata": {},
   "outputs": [
    {
     "data": {
      "text/plain": [
       "(array([[  0.        , 134.52528772]]), array([71270.49244873]))"
      ]
     },
     "execution_count": 11,
     "metadata": {},
     "output_type": "execute_result"
    }
   ],
   "source": [
    "model.coef_, model.intercept_"
   ]
  },
  {
   "cell_type": "code",
   "execution_count": 12,
   "metadata": {},
   "outputs": [
    {
     "name": "stdout",
     "output_type": "stream",
     "text": [
      "Scikit-Learn model predicts (y|x=3500) = $542108.9994695737\n"
     ]
    }
   ],
   "source": [
    "skprediction = model.predict(np.array([[1, 3500]])).item()\n",
    "print(f\"Scikit-Learn model predicts (y|x={3500}) = ${skprediction}\")"
   ]
  },
  {
   "cell_type": "code",
   "execution_count": 13,
   "metadata": {},
   "outputs": [
    {
     "data": {
      "image/png": "[encoded data removed]",
      "text/plain": [
       "<Figure size 432x288 with 1 Axes>"
      ]
     },
     "metadata": {
      "needs_background": "light"
     },
     "output_type": "display_data"
    }
   ],
   "source": [
    "ax = plot(X[:,1], y, 'with scikit-learn')\n",
    "\n",
    "ax.plot(X[:, 1], lm.predict(X), color='red')\n",
    "plt.show()"
   ]
  },
  {
   "cell_type": "markdown",
   "metadata": {},
   "source": [
    "### Statsmodels"
   ]
  },
  {
   "cell_type": "code",
   "execution_count": 14,
   "metadata": {},
   "outputs": [],
   "source": [
    "import statsmodels.api as sm"
   ]
  },
  {
   "cell_type": "code",
   "execution_count": 15,
   "metadata": {},
   "outputs": [],
   "source": [
    "X = data[:, 0].reshape(-1, 1)\n",
    "y = data[:, -1].reshape(-1, 1)"
   ]
  },
  {
   "cell_type": "code",
   "execution_count": 16,
   "metadata": {},
   "outputs": [
    {
     "data": {
      "text/html": [
       "<table class=\"simpletable\">\n",
       "<caption>OLS Regression Results</caption>\n",
       "<tr>\n",
       "  <th>Dep. Variable:</th>            <td>y</td>        <th>  R-squared:         </th> <td>   0.731</td>\n",
       "</tr>\n",
       "<tr>\n",
       "  <th>Model:</th>                   <td>OLS</td>       <th>  Adj. R-squared:    </th> <td>   0.725</td>\n",
       "</tr>\n",
       "<tr>\n",
       "  <th>Method:</th>             <td>Least Squares</td>  <th>  F-statistic:       </th> <td>   122.3</td>\n",
       "</tr>\n",
       "<tr>\n",
       "  <th>Date:</th>             <td>Tue, 21 Jan 2020</td> <th>  Prob (F-statistic):</th> <td>2.03e-14</td>\n",
       "</tr>\n",
       "<tr>\n",
       "  <th>Time:</th>                 <td>01:10:23</td>     <th>  Log-Likelihood:    </th> <td> -586.94</td>\n",
       "</tr>\n",
       "<tr>\n",
       "  <th>No. Observations:</th>      <td>    47</td>      <th>  AIC:               </th> <td>   1178.</td>\n",
       "</tr>\n",
       "<tr>\n",
       "  <th>Df Residuals:</th>          <td>    45</td>      <th>  BIC:               </th> <td>   1182.</td>\n",
       "</tr>\n",
       "<tr>\n",
       "  <th>Df Model:</th>              <td>     1</td>      <th>                     </th>     <td> </td>   \n",
       "</tr>\n",
       "<tr>\n",
       "  <th>Covariance Type:</th>      <td>nonrobust</td>    <th>                     </th>     <td> </td>   \n",
       "</tr>\n",
       "</table>\n",
       "<table class=\"simpletable\">\n",
       "<tr>\n",
       "    <td></td>       <th>coef</th>     <th>std err</th>      <th>t</th>      <th>P>|t|</th>  <th>[0.025</th>    <th>0.975]</th>  \n",
       "</tr>\n",
       "<tr>\n",
       "  <th>const</th> <td> 7.127e+04</td> <td> 2.61e+04</td> <td>    2.725</td> <td> 0.009</td> <td> 1.86e+04</td> <td> 1.24e+05</td>\n",
       "</tr>\n",
       "<tr>\n",
       "  <th>x1</th>    <td>  134.5253</td> <td>   12.165</td> <td>   11.058</td> <td> 0.000</td> <td>  110.024</td> <td>  159.027</td>\n",
       "</tr>\n",
       "</table>\n",
       "<table class=\"simpletable\">\n",
       "<tr>\n",
       "  <th>Omnibus:</th>       <td> 3.751</td> <th>  Durbin-Watson:     </th> <td>   1.863</td>\n",
       "</tr>\n",
       "<tr>\n",
       "  <th>Prob(Omnibus):</th> <td> 0.153</td> <th>  Jarque-Bera (JB):  </th> <td>   2.726</td>\n",
       "</tr>\n",
       "<tr>\n",
       "  <th>Skew:</th>          <td> 0.557</td> <th>  Prob(JB):          </th> <td>   0.256</td>\n",
       "</tr>\n",
       "<tr>\n",
       "  <th>Kurtosis:</th>      <td> 3.390</td> <th>  Cond. No.          </th> <td>5.88e+03</td>\n",
       "</tr>\n",
       "</table><br/><br/>Warnings:<br/>[1] Standard Errors assume that the covariance matrix of the errors is correctly specified.<br/>[2] The condition number is large, 5.88e+03. This might indicate that there are<br/>strong multicollinearity or other numerical problems."
      ],
      "text/plain": [
       "<class 'statsmodels.iolib.summary.Summary'>\n",
       "\"\"\"\n",
       "                            OLS Regression Results                            \n",
       "==============================================================================\n",
       "Dep. Variable:                      y   R-squared:                       0.731\n",
       "Model:                            OLS   Adj. R-squared:                  0.725\n",
       "Method:                 Least Squares   F-statistic:                     122.3\n",
       "Date:                Tue, 21 Jan 2020   Prob (F-statistic):           2.03e-14\n",
       "Time:                        01:10:23   Log-Likelihood:                -586.94\n",
       "No. Observations:                  47   AIC:                             1178.\n",
       "Df Residuals:                      45   BIC:                             1182.\n",
       "Df Model:                           1                                         \n",
       "Covariance Type:            nonrobust                                         \n",
       "==============================================================================\n",
       "                 coef    std err          t      P>|t|      [0.025      0.975]\n",
       "------------------------------------------------------------------------------\n",
       "const       7.127e+04   2.61e+04      2.725      0.009    1.86e+04    1.24e+05\n",
       "x1           134.5253     12.165     11.058      0.000     110.024     159.027\n",
       "==============================================================================\n",
       "Omnibus:                        3.751   Durbin-Watson:                   1.863\n",
       "Prob(Omnibus):                  0.153   Jarque-Bera (JB):                2.726\n",
       "Skew:                           0.557   Prob(JB):                        0.256\n",
       "Kurtosis:                       3.390   Cond. No.                     5.88e+03\n",
       "==============================================================================\n",
       "\n",
       "Warnings:\n",
       "[1] Standard Errors assume that the covariance matrix of the errors is correctly specified.\n",
       "[2] The condition number is large, 5.88e+03. This might indicate that there are\n",
       "strong multicollinearity or other numerical problems.\n",
       "\"\"\""
      ]
     },
     "execution_count": 16,
     "metadata": {},
     "output_type": "execute_result"
    }
   ],
   "source": [
    "X = sm.add_constant(X) # statsmodels has a function to add the constant\n",
    "\n",
    "model = sm.OLS(y, X).fit()\n",
    "y_pred = model.predict(X)\n",
    "model.summary()"
   ]
  },
  {
   "cell_type": "markdown",
   "metadata": {},
   "source": [
    "Despite therebeing many pre-built Python packages to perform regression, here is how to do it manually."
   ]
  },
  {
   "cell_type": "markdown",
   "metadata": {},
   "source": [
    "## Approach 1: Old School"
   ]
  },
  {
   "cell_type": "markdown",
   "metadata": {},
   "source": [
    "This is not especially practical, but it is quite helpful for learning purposes. All regression lines must pass through the intersection formed by the mean of $x$ and the mean of $y$:"
   ]
  },
  {
   "cell_type": "code",
   "execution_count": 17,
   "metadata": {},
   "outputs": [],
   "source": [
    "X = data[:, 0].reshape(-1, 1)\n",
    "y = data[:, -1].reshape(-1, 1)\n",
    "\n",
    "mean_x = np.mean(X)\n",
    "mean_y = np.mean(y)"
   ]
  },
  {
   "cell_type": "markdown",
   "metadata": {},
   "source": [
    "We first solve for $\\beta_1$, as follows:\n",
    "\\begin{equation*}\n",
    "\\beta_1 = \\frac{\\sum_{i=1}^{m}(x_i - \\bar{x})(y_i - \\bar{y})}{\\sum_{i=1}^{m}(x_i - \\bar{x})^2}\n",
    "\\end{equation*}\n",
    "<br>\n",
    "So the numerator is the sum of the $x$ and $y$ covariance; the denominator is the sum of squared $x$ errors. Then we can solve for $\\beta_0$ as:\n",
    "\\begin{equation*}\n",
    "\\beta_0 = \\bar{y} - \\beta_1x_1\n",
    "\\end{equation*}"
   ]
  },
  {
   "cell_type": "markdown",
   "metadata": {},
   "source": [
    "So to solve for our $\\beta$ values and find the line, we perform the following steps:\n",
    "- Calculate the errors for $x$ and $y$\n",
    "- Square the $x$ errors (this is our denominator)\n",
    "- Calculate the *covariance* of $x$ and $y$ (which is the product of x errors and y errors; this is the numerator)\n",
    "- Solve for $\\beta_1$\n",
    "- Solve for $\\beta_0$"
   ]
  },
  {
   "cell_type": "code",
   "execution_count": 18,
   "metadata": {},
   "outputs": [],
   "source": [
    "xerrs = X - np.mean(X)\n",
    "yerrs = y - np.mean(y)\n",
    "\n",
    "# Determine b1\n",
    "xerrs_2 = xerrs**2\n",
    "cov = xerrs * yerrs\n",
    "b1 = np.sum(cov)/np.sum(xerrs_2) # 0.6, slope\n",
    "\n",
    "# Determine b0\n",
    "b0 = np.mean(y) - (b1*np.mean(X))"
   ]
  },
  {
   "cell_type": "code",
   "execution_count": 19,
   "metadata": {},
   "outputs": [
    {
     "name": "stdout",
     "output_type": "stream",
     "text": [
      "71270.49244872906 134.52528772024135\n"
     ]
    }
   ],
   "source": [
    "print(b0, b1)"
   ]
  },
  {
   "cell_type": "markdown",
   "metadata": {},
   "source": [
    "Now we can use the $\\beta$ coefficients to predict new values of $y$ from input values of $x$. We can also draw the line to plot by inputting all values of $x$ into the equation:"
   ]
  },
  {
   "cell_type": "code",
   "execution_count": 20,
   "metadata": {},
   "outputs": [
    {
     "data": {
      "image/png": "[encoded data removed]",
      "text/plain": [
       "<Figure size 432x288 with 1 Axes>"
      ]
     },
     "metadata": {
      "needs_background": "light"
     },
     "output_type": "display_data"
    }
   ],
   "source": [
    "def predict(x, beta0, beta1):\n",
    "    return beta0 + (beta1 * x)\n",
    "\n",
    "ax = plot(X, y, 'old school calculation')\n",
    "# Plot the line\n",
    "ax.plot(X, predict(X, b0, b1), c='red')\n",
    "plt.show()"
   ]
  },
  {
   "cell_type": "markdown",
   "metadata": {},
   "source": [
    "And now we have our best fitting line, passing through that intersection. We can now predict for any value of $x$:"
   ]
  },
  {
   "cell_type": "code",
   "execution_count": 21,
   "metadata": {},
   "outputs": [
    {
     "name": "stdout",
     "output_type": "stream",
     "text": [
      "Old school calculation model predicts (y|x=3500) = $542108.9994695738\n"
     ]
    }
   ],
   "source": [
    "oldschool_pred = predict(np.array([3500]), b0, b1).item() # For 3500 m^2 feet\n",
    "print(f\"Old school calculation model predicts (y|x={3500}) = ${oldschool_pred}\")"
   ]
  },
  {
   "cell_type": "markdown",
   "metadata": {},
   "source": [
    "## Approach 2: The Normal Equations"
   ]
  },
  {
   "cell_type": "markdown",
   "metadata": {},
   "source": [
    "A more practical approach is to use the normal equations, which involves adding an intercept column (column of ones) to the $X$ matrix and leveraging matrix multiplication to quickly solve for $\\beta$:"
   ]
  },
  {
   "cell_type": "markdown",
   "metadata": {},
   "source": [
    "\\begin{equation*}\n",
    "\\beta = (X^TX)^{-1}X^Ty\n",
    "\\end{equation*}"
   ]
  },
  {
   "cell_type": "code",
   "execution_count": 22,
   "metadata": {},
   "outputs": [],
   "source": [
    "X = data[:, 0].reshape(-1, 1)\n",
    "y = data[:, -1].reshape(-1, 1)"
   ]
  },
  {
   "cell_type": "code",
   "execution_count": 23,
   "metadata": {},
   "outputs": [],
   "source": [
    "# Add intercept to X\n",
    "X = np.c_[np.ones(len(y)), X]"
   ]
  },
  {
   "cell_type": "code",
   "execution_count": 24,
   "metadata": {},
   "outputs": [],
   "source": [
    "def normal_eqn(X, y):\n",
    "    return np.linalg.pinv(X.T @ X) @ X.T @ y"
   ]
  },
  {
   "cell_type": "code",
   "execution_count": 25,
   "metadata": {},
   "outputs": [
    {
     "name": "stdout",
     "output_type": "stream",
     "text": [
      "[[71270.49244796]\n",
      " [  134.52528772]]\n"
     ]
    }
   ],
   "source": [
    "betas = normal_eqn(X, y)\n",
    "print(betas)"
   ]
  },
  {
   "cell_type": "code",
   "execution_count": 26,
   "metadata": {},
   "outputs": [],
   "source": [
    "y_preds = predict(X, betas[0].item(), betas[1].item())"
   ]
  },
  {
   "cell_type": "code",
   "execution_count": 27,
   "metadata": {},
   "outputs": [
    {
     "name": "stdout",
     "output_type": "stream",
     "text": [
      "Normal equations model predicts (y|x=3500) = $[542108.99946997]\n"
     ]
    }
   ],
   "source": [
    "neqn_pred = predict(np.array([3500]), betas[0].item(), betas[1].item())\n",
    "print(f\"Normal equations model predicts (y|x={3500}) = ${neqn_pred}\")"
   ]
  },
  {
   "cell_type": "code",
   "execution_count": 28,
   "metadata": {},
   "outputs": [
    {
     "data": {
      "image/png": "[encoded data removed]",
      "text/plain": [
       "<Figure size 432x288 with 1 Axes>"
      ]
     },
     "metadata": {
      "needs_background": "light"
     },
     "output_type": "display_data"
    }
   ],
   "source": [
    "ax = plot(X[:, 1], y, 'with normal equations')\n",
    "ax.plot(X[:, 1], y_preds[:, 1], c='r')\n",
    "plt.show()"
   ]
  },
  {
   "cell_type": "markdown",
   "metadata": {},
   "source": [
    "## Approach 3: Gradient Descent"
   ]
  },
  {
   "cell_type": "markdown",
   "metadata": {},
   "source": [
    "Gradient descent is an iterative algorithm that solves for the regression coefficients (in this context, $\\theta$ rather than $\\beta$) by minimising the error (cost, $J$) between a proposed 'guess' at the coefficients (the hypothesis, $h$) and the observed values of $y$ across a specified number of iterations. The steps are:<br>\n",
    "- Initialise coefficients (typically at zero) to form the initial hypothesis $h$\n",
    "- Compute the cost, $J$ (the error of $h$)\n",
    "- If the cost is too high, reduce the coefficients; if it is too low, increase them.\n",
    "- Repeat until convergence."
   ]
  },
  {
   "cell_type": "markdown",
   "metadata": {},
   "source": [
    "In this context, we form our hypothesis $h$ as:\n",
    "\n",
    "\\begin{equation*}\n",
    "h_\\theta(x) = \\theta_0 + \\theta_1x_1\n",
    "\\end{equation*}\n",
    "<br>\n",
    "Note that this is just the equation for regression anyway.\n",
    "<br>\n",
    "<br>\n",
    "Then we must compute the cost for this particular hypothesis, which is given by the following formula:\n",
    "\\begin{equation*}\n",
    "J(\\theta_0, \\theta_1) = \n",
    "\\frac{1}{2m}\\sum_{i=1}^{m}\n",
    "(\\hat{y}_i - y_i)^2 = \n",
    "\\frac{1}{2m}\\sum_{i=1}^{m}\n",
    "(h_\\theta(x_i) - y_i)^2\n",
    "\\end{equation*}\n",
    "\n",
    "This cost function $J$ essentially computes the mean squared error of each hypothesis that we come up with. Then, the parameters of $\\theta$ are updated, the cost recomputed, and the process repeated until convergence."
   ]
  },
  {
   "cell_type": "code",
   "execution_count": 29,
   "metadata": {},
   "outputs": [],
   "source": [
    "X = data[:, 0].reshape(-1, 1)\n",
    "y = data[:, -1].reshape(-1, 1)\n",
    "m = len(y)"
   ]
  },
  {
   "cell_type": "markdown",
   "metadata": {},
   "source": [
    "If we normalise our $X$ to be in a common space, gradient descent converges faster."
   ]
  },
  {
   "cell_type": "code",
   "execution_count": 30,
   "metadata": {},
   "outputs": [],
   "source": [
    "def normalise(X):\n",
    "    mu = X.mean(axis=0)\n",
    "    sigma = X.std(axis=0, ddof=1)\n",
    "    X_norm = (X - mu) / sigma\n",
    "    return X_norm, mu, sigma"
   ]
  },
  {
   "cell_type": "code",
   "execution_count": 31,
   "metadata": {},
   "outputs": [],
   "source": [
    "# Normalise X\n",
    "X, mu, sigma = normalise(X)"
   ]
  },
  {
   "cell_type": "markdown",
   "metadata": {},
   "source": [
    "Just like with the normal equations approach, we must add an intercept column to $X$ - this is due to the fact that we are making use of matrix multiplication to more effectively make the calculations."
   ]
  },
  {
   "cell_type": "code",
   "execution_count": 32,
   "metadata": {},
   "outputs": [],
   "source": [
    "# Add the intercept\n",
    "X = np.c_[np.ones(m), X]\n",
    "n = X.shape[1]"
   ]
  },
  {
   "cell_type": "markdown",
   "metadata": {},
   "source": [
    "Now we can initialise our $\\theta$ parameters (essentially just $\\beta$ values). Since there is no reason to use any particular values for this, it is conventional to start at zero:"
   ]
  },
  {
   "cell_type": "code",
   "execution_count": 33,
   "metadata": {},
   "outputs": [],
   "source": [
    "# Initialise theta parameters\n",
    "theta = np.zeros((n, 1))"
   ]
  },
  {
   "cell_type": "code",
   "execution_count": 34,
   "metadata": {},
   "outputs": [],
   "source": [
    "# Some gradient descent settings\n",
    "iterations = 500\n",
    "alpha = 0.01 # This is the learning rate - the extent to which we adjust theta after each iteration"
   ]
  },
  {
   "cell_type": "code",
   "execution_count": 35,
   "metadata": {},
   "outputs": [],
   "source": [
    "# Functions for gradient descent\n",
    "def compute_cost(X, y, theta):\n",
    "    m = y.shape[0]\n",
    "    h = X @ theta\n",
    "    J = 1 / (2*m) * np.sum((h - y)**2)\n",
    "    return J\n",
    "\n",
    "def gradient_descent(X, y, theta, alpha, n_iterations):\n",
    "    \n",
    "    m = y.shape[0]\n",
    "    J_history = []#np.zeroes((n_iterations, 1))\n",
    "    \n",
    "    for i in range(n_iterations):\n",
    "        h = X @ theta\n",
    "        theta -= alpha * (1 / m) * (X.T @ (h - y))\n",
    "        J_history.append(compute_cost(X, y, theta))\n",
    "    \n",
    "    return theta, J_history\n",
    "\n",
    "def plot_cost(J):\n",
    "    fig, ax = plt.subplots()\n",
    "    ax.plot(range(len(J)), J)\n",
    "    ax.set_xlabel('iteration')\n",
    "    ax.set_ylabel('Cost J')\n",
    "    ax.grid(ls='dashed', c='grey')\n",
    "    plt.show()\n",
    "    return\n",
    "\n",
    "def predict(to_predict, mu, sigma, theta):\n",
    "    normed = (to_predict - mu)/sigma\n",
    "    normed = np.insert(normed, 0, 1)\n",
    "    prediction = normed @ theta\n",
    "    return prediction.item()"
   ]
  },
  {
   "cell_type": "code",
   "execution_count": 36,
   "metadata": {},
   "outputs": [
    {
     "data": {
      "image/png": "[encoded data removed]",
      "text/plain": [
       "<Figure size 432x288 with 1 Axes>"
      ]
     },
     "metadata": {
      "needs_background": "light"
     },
     "output_type": "display_data"
    }
   ],
   "source": [
    "# Run the gradient descent algorithm\n",
    "theta, J_history = gradient_descent(X,y,theta,alpha,iterations)\n",
    "plot_cost(J_history)\n",
    "prediction = predict(np.array([3500]), mu, sigma, theta)"
   ]
  },
  {
   "cell_type": "code",
   "execution_count": 37,
   "metadata": {},
   "outputs": [
    {
     "data": {
      "image/png": "[encoded data removed]",
      "text/plain": [
       "<Figure size 432x288 with 1 Axes>"
      ]
     },
     "metadata": {
      "needs_background": "light"
     },
     "output_type": "display_data"
    }
   ],
   "source": [
    "ax = plot(X[:, 1], y)\n",
    "ax.plot(X[:, 1], X@theta, c='r')\n",
    "plt.show()"
   ]
  },
  {
   "cell_type": "markdown",
   "metadata": {},
   "source": [
    "Remember that $X$ was normalised, so the scale is different and our $\\theta$ parameters will also be different."
   ]
  },
  {
   "cell_type": "code",
   "execution_count": 38,
   "metadata": {},
   "outputs": [
    {
     "name": "stdout",
     "output_type": "stream",
     "text": [
      "Theta computed from gradient descent: \n",
      "\n",
      "[[338175.98396731]\n",
      " [106125.45078465]]\n",
      "\n",
      "Predicted price of a 1650 sq-ft, 3 br house (using gradient descent):$538396.7582526186\n"
     ]
    }
   ],
   "source": [
    "print(\"Theta computed from gradient descent: \\n\")\n",
    "print(theta)\n",
    "print()\n",
    "\n",
    "print(f'Predicted price of a 1650 sq-ft, 3 br house (using gradient descent):${prediction}')\n"
   ]
  },
  {
   "cell_type": "markdown",
   "metadata": {},
   "source": [
    "Notice that the value predicted by gradient descent differs more than the others - this is simply because of the number of iterations chosen. We can increase the iterations to show that it gradually converges:"
   ]
  },
  {
   "cell_type": "code",
   "execution_count": 39,
   "metadata": {},
   "outputs": [
    {
     "name": "stdout",
     "output_type": "stream",
     "text": [
      "Theta computed from gradient descent: \n",
      "\n",
      "[[340412.65957447]\n",
      " [106907.5627611 ]]\n",
      "\n",
      "Predicted price of a 1650 sq-ft, 3 br house (using gradient descent):$542108.9994695694\n"
     ]
    }
   ],
   "source": [
    "# Run the gradient descent algorithm again with more iterations\n",
    "theta, J_history = gradient_descent(X,y,theta,alpha,n_iterations=5000)\n",
    "\n",
    "print(\"Theta computed from gradient descent: \\n\")\n",
    "print(theta)\n",
    "print()\n",
    "\n",
    "prediction = predict(np.array([3500]), mu, sigma, theta)\n",
    "print(f'Predicted price of a 1650 sq-ft, 3 br house (using gradient descent):${prediction}')"
   ]
  },
  {
   "cell_type": "markdown",
   "metadata": {},
   "source": [
    "The gradient descent method is typically only really important for linear regression when the variable space of X becomes larger than 5,000 to 10,000 and is probably overkill for many simple cases. HOWEVER: Gradient descent is really important for other machine learning algorithms."
   ]
  }
 ],
 "metadata": {
  "kernelspec": {
   "display_name": "Python 3",
   "language": "python",
   "name": "python3"
  },
  "language_info": {
   "codemirror_mode": {
    "name": "ipython",
    "version": 3
   },
   "file_extension": ".py",
   "mimetype": "text/x-python",
   "name": "python",
   "nbconvert_exporter": "python",
   "pygments_lexer": "ipython3",
   "version": "3.7.4"
  }
 },
 "nbformat": 4,
 "nbformat_minor": 2
}
