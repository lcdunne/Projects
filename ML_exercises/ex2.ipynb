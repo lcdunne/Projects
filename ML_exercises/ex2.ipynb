{
 "cells": [
  {
   "cell_type": "markdown",
   "metadata": {},
   "source": [
    "# Logistic Regression"
   ]
  },
  {
   "cell_type": "markdown",
   "metadata": {},
   "source": [
    "This is an implementation of logistic regression in Python, following from Andrew Ng's ML course. Although the course does not make use of the gradient descent approach, I chose to implement it for my own learning. After this, I do it using scipy's optimization library."
   ]
  },
  {
   "cell_type": "code",
   "execution_count": 1,
   "metadata": {},
   "outputs": [],
   "source": [
    "import numpy as np\n",
    "import matplotlib.pyplot as plt\n",
    "import scipy.optimize as op"
   ]
  },
  {
   "cell_type": "markdown",
   "metadata": {},
   "source": [
    "### Main Functions"
   ]
  },
  {
   "cell_type": "code",
   "execution_count": 2,
   "metadata": {},
   "outputs": [],
   "source": [
    "def sigmoid(z):\n",
    "    return 1 / (1 + np.exp(-z))\n",
    "\n",
    "def compute_gradient(theta, X, y):\n",
    "    m, n = X.shape\n",
    "    theta = theta.reshape((n, 1))\n",
    "    y = y.reshape((m, 1))\n",
    "    h = sigmoid(X @ theta)\n",
    "    gradient = X.T @ ((h - y) / m)\n",
    "    \n",
    "    return gradient.flatten()\n",
    "\n",
    "def compute_cost(theta,x,y):\n",
    "    m, n = x.shape\n",
    "    theta = theta.reshape((n, 1))\n",
    "    y = y.reshape((m, 1))\n",
    "    h = sigmoid(x @ theta)\n",
    "\n",
    "    J = -(np.sum(y * np.log(h) + (1 - y) * np.log(1-h)))/m\n",
    "    return J\n",
    "\n",
    "def gradient_descent(X, y, iters, a):\n",
    "    m, n = X.shape\n",
    "    theta = np.zeros((n, 1))\n",
    "    \n",
    "    costs = []\n",
    "    for i in range(iters):\n",
    "        z = X @ theta\n",
    "        h = sigmoid(z)\n",
    "        gradient = compute_gradient(theta, X, y).reshape(-1,1)#(X.T @ (h - y)) / y.size\n",
    "        theta -= a * gradient\n",
    "        cost = compute_cost(theta, X, y)\n",
    "        costs.append(cost)\n",
    "    return theta, costs\n",
    "\n",
    "def compute_boundary(X, theta):\n",
    "    dbx = np.array([min(X[:,1])-2,  max(X[:,1])+2])\n",
    "    dby = (-1/theta[2]) * (theta[1] * dbx + theta[0])\n",
    "    return dbx, dby\n",
    "\n",
    "def plot_data(X, y, decisionboundary=None):\n",
    "    fig, ax = plt.subplots()\n",
    "    posclass = X[np.where(y == 1)[0]]\n",
    "    negclass = X[np.where(y == 0)[0]]\n",
    "    ax.scatter(posclass[:, 0], posclass[:, 1], label='pos')\n",
    "    ax.scatter(negclass[:, 0], negclass[:, 1], edgecolor='C0', c='none', label='neg')\n",
    "    \n",
    "    if decisionboundary is not None:\n",
    "        ax.plot(decisionboundary[0], decisionboundary[1], c='red')\n",
    "        \n",
    "    ax.legend()\n",
    "    plt.show()\n",
    "    return"
   ]
  },
  {
   "cell_type": "code",
   "execution_count": 3,
   "metadata": {},
   "outputs": [],
   "source": [
    "# READ IN THE DATA\n",
    "path = r'C:\\Users\\L\\Documents\\Machine Learning with Andrew Ng\\02_logistic_regression'\n",
    "data = np.loadtxt(fname=f'{path}//ex2data1.txt', delimiter=',')\n",
    "X = data[:, :-1] # case, age, weight, sex, VO2_max, heart_disease\n",
    "y = data[:, -1].reshape(-1, 1)\n",
    "\n",
    "# Add an intercept column\n",
    "X = np.c_[(np.ones(len(X)), X)]"
   ]
  },
  {
   "cell_type": "markdown",
   "metadata": {},
   "source": [
    "### Using Gradient Descent"
   ]
  },
  {
   "cell_type": "code",
   "execution_count": 4,
   "metadata": {},
   "outputs": [],
   "source": [
    "thetas_gd, costs = gradient_descent(X, y, 5000000, 0.001)"
   ]
  },
  {
   "cell_type": "code",
   "execution_count": 5,
   "metadata": {},
   "outputs": [
    {
     "data": {
      "image/png": "[encoded data removed]",
      "text/plain": [
       "<Figure size 432x288 with 1 Axes>"
      ]
     },
     "metadata": {
      "needs_background": "light"
     },
     "output_type": "display_data"
    },
    {
     "name": "stdout",
     "output_type": "stream",
     "text": [
      "Cost of theta found by gradient descent: 0.20416128092026029.\n",
      "Expected (approx): 0.203\n",
      "\n",
      "Thetas found:\n",
      "[[-23.12353639]\n",
      " [  0.18993761]\n",
      " [  0.18497899]]\n",
      "\n",
      "Expected thetas:\n",
      "[[-25.161\n",
      " 0.206\n",
      " 0.201]]\n"
     ]
    }
   ],
   "source": [
    "fig, ax = plt.subplots()\n",
    "ax.plot(costs)\n",
    "ax.set_xlabel('iteration')\n",
    "ax.set_ylabel('J')\n",
    "plt.show()\n",
    "print(f\"Cost of theta found by gradient descent: {costs[-1]}.\")\n",
    "print(f\"Expected (approx): 0.203\\n\")\n",
    "print(f\"Thetas found:\\n{thetas_gd}\\n\")\n",
    "print(f\"Expected thetas:\\n[[-25.161\\n 0.206\\n 0.201]]\")"
   ]
  },
  {
   "cell_type": "markdown",
   "metadata": {},
   "source": [
    "It is also interesting to see what happens when we use gradient descent with a larger learning rate $\\alpha$:"
   ]
  },
  {
   "cell_type": "code",
   "execution_count": 6,
   "metadata": {},
   "outputs": [
    {
     "name": "stdout",
     "output_type": "stream",
     "text": [
      "[[-29.99604184]\n",
      " [  0.23675871]\n",
      " [  0.23161717]]\n"
     ]
    }
   ],
   "source": [
    "thetas_gd_slow, costs_slow = gradient_descent(X, y, 500000, 0.005)\n",
    "print(thetas_gd_slow)"
   ]
  },
  {
   "cell_type": "code",
   "execution_count": 7,
   "metadata": {},
   "outputs": [
    {
     "data": {
      "image/png": "[encoded data removed]",
      "text/plain": [
       "<Figure size 432x288 with 1 Axes>"
      ]
     },
     "metadata": {
      "needs_background": "light"
     },
     "output_type": "display_data"
    },
    {
     "name": "stdout",
     "output_type": "stream",
     "text": [
      "Final cost (J): 0.23735857050014988\n"
     ]
    }
   ],
   "source": [
    "fig, ax = plt.subplots()\n",
    "ax.plot(costs_slow)\n",
    "ax.set_xlabel('iteration')\n",
    "ax.set_ylabel('Cost (J)')\n",
    "plt.show()\n",
    "print(f\"Final cost (J): {costs_slow[-1]}\")"
   ]
  },
  {
   "cell_type": "markdown",
   "metadata": {},
   "source": [
    "The cost function seems to oscillate back and forth while gradually reducing, as was mentioned on the course. It is interesting to visualise what this looks like - in this case, it seems that rather than being stuck, a minimum may be possible, but it can clearly be made more efficiently by reducing $\\alpha$."
   ]
  },
  {
   "cell_type": "markdown",
   "metadata": {},
   "source": [
    "### Using Scipy's Optimization"
   ]
  },
  {
   "cell_type": "markdown",
   "metadata": {},
   "source": [
    "Scipy's optimization package computes optimal theta values much faster, which is probably why Andrew Ng makes use of it in the course rather than gradient descent."
   ]
  },
  {
   "cell_type": "code",
   "execution_count": 8,
   "metadata": {},
   "outputs": [
    {
     "name": "stdout",
     "output_type": "stream",
     "text": [
      "     fun: 0.2034977015894744\n",
      "     jac: array([9.09336555e-09, 9.26443416e-08, 4.83973251e-07])\n",
      " message: 'Local minimum reached (|pg| ~= 0)'\n",
      "    nfev: 36\n",
      "     nit: 17\n",
      "  status: 0\n",
      " success: True\n",
      "       x: array([-25.16131865,   0.20623159,   0.20147149])\n"
     ]
    }
   ],
   "source": [
    "def opti(X, y):\n",
    "    m, n = X.shape\n",
    "    initial_theta = np.zeros(n)\n",
    "    result = op.minimize(fun = compute_cost, \n",
    "                     x0 = initial_theta, \n",
    "                     args = (X, y),\n",
    "                     method = 'TNC',\n",
    "                     jac = compute_gradient)\n",
    "    return result\n",
    "\n",
    "\n",
    "result = opti(X, y)\n",
    "print(result)\n",
    "thetas_opt = result.x\n",
    "cost_opt = result.fun # compute_cost(thetas_opt, X, y)"
   ]
  },
  {
   "cell_type": "code",
   "execution_count": 9,
   "metadata": {},
   "outputs": [
    {
     "name": "stdout",
     "output_type": "stream",
     "text": [
      "Cost of theta found by gradient descent: 0.2034977015894744.\n",
      "Expected (approx): 0.203\n",
      "\n",
      "Thetas found:\n",
      "[-25.16131865   0.20623159   0.20147149]\n",
      "\n",
      "Expected thetas:\n",
      "[[-25.161\n",
      " 0.206\n",
      " 0.201]]\n"
     ]
    }
   ],
   "source": [
    "print(f\"Cost of theta found by gradient descent: {cost_opt}.\")\n",
    "print(f\"Expected (approx): 0.203\\n\")\n",
    "print(f\"Thetas found:\\n{thetas_opt}\\n\")\n",
    "print(f\"Expected thetas:\\n[[-25.161\\n 0.206\\n 0.201]]\")"
   ]
  },
  {
   "cell_type": "markdown",
   "metadata": {},
   "source": [
    "We can see that the thetas obtained from Scipy's optimization package are similar to those from gradient descent, only it took much less time to compute."
   ]
  },
  {
   "cell_type": "markdown",
   "metadata": {},
   "source": [
    "### Plotting Results"
   ]
  },
  {
   "cell_type": "code",
   "execution_count": 10,
   "metadata": {},
   "outputs": [
    {
     "data": {
      "image/png": "[encoded data removed]",
      "text/plain": [
       "<Figure size 432x288 with 1 Axes>"
      ]
     },
     "metadata": {
      "needs_background": "light"
     },
     "output_type": "display_data"
    }
   ],
   "source": [
    "# Compute the decision boundary\n",
    "db_opt = compute_boundary(X[:, 1:], thetas_opt)\n",
    "# Plot it\n",
    "plot_data(X[:, 1:], y, (db_opt))"
   ]
  },
  {
   "cell_type": "markdown",
   "metadata": {},
   "source": [
    "### Testing the Accuracy of the Model"
   ]
  },
  {
   "cell_type": "code",
   "execution_count": 11,
   "metadata": {},
   "outputs": [],
   "source": [
    "# Create a prediction array for GD & opt approaches\n",
    "threshold = 0.5\n",
    "ypred_gd = (X@thetas_gd>=threshold)*1\n",
    "ypred_opt = (X@thetas_opt>=threshold)*1"
   ]
  },
  {
   "cell_type": "code",
   "execution_count": 12,
   "metadata": {},
   "outputs": [
    {
     "name": "stdout",
     "output_type": "stream",
     "text": [
      "Accuracy for optimisation: 89.0%\n",
      "Accuracy for gradient descent: 88.0%\n"
     ]
    }
   ],
   "source": [
    "# Compute accuracy for both approaches\n",
    "opt_acc = (y[np.where(ypred_opt == y.flatten())].size / y.size) * 100\n",
    "gd_acc = (y[np.where(ypred_gd == y)].size / y.size) * 100\n",
    "# Print acc\n",
    "print(f\"Accuracy for optimisation: {opt_acc}%\")\n",
    "print(f\"Accuracy for gradient descent: {gd_acc}%\")"
   ]
  },
  {
   "cell_type": "markdown",
   "metadata": {},
   "source": [
    "### Predicting New Values"
   ]
  },
  {
   "cell_type": "code",
   "execution_count": 13,
   "metadata": {},
   "outputs": [
    {
     "name": "stdout",
     "output_type": "stream",
     "text": [
      "For a student with scores 45 and 85, we predict an admission probability of: 77.62906242781953%\n"
     ]
    }
   ],
   "source": [
    "adm_pr = sigmoid(np.array([1, 45, 85]) @ thetas_opt)\n",
    "print(f\"For a student with scores 45 and 85, we predict an admission probability of: {adm_pr*100}%\")"
   ]
  }
 ],
 "metadata": {
  "kernelspec": {
   "display_name": "Python 3",
   "language": "python",
   "name": "python3"
  },
  "language_info": {
   "codemirror_mode": {
    "name": "ipython",
    "version": 3
   },
   "file_extension": ".py",
   "mimetype": "text/x-python",
   "name": "python",
   "nbconvert_exporter": "python",
   "pygments_lexer": "ipython3",
   "version": "3.7.4"
  }
 },
 "nbformat": 4,
 "nbformat_minor": 2
}
